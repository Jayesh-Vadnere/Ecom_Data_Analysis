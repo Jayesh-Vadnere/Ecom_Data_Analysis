{
 "cells": [
  {
   "cell_type": "code",
   "execution_count": 1,
   "id": "e1c254db-c164-400a-9a8f-3be39bd573d5",
   "metadata": {},
   "outputs": [],
   "source": [
    "import numpy as np\n",
    "import pandas as pd\n",
    "import matplotlib.pyplot as plt\n",
    "import seaborn as sns"
   ]
  },
  {
   "cell_type": "markdown",
   "id": "6cb05463-91d5-44a1-8fdc-cbb2d4acb059",
   "metadata": {},
   "source": [
    "#### Importing data to Pandas dataframe"
   ]
  },
  {
   "cell_type": "code",
   "execution_count": 3,
   "id": "2cdf07b8-1438-4d6f-966f-7661c86f6430",
   "metadata": {},
   "outputs": [],
   "source": [
    "amz = pd.read_csv(r'E:\\Ecom_sales.csv')"
   ]
  },
  {
   "cell_type": "code",
   "execution_count": 4,
   "id": "ed049436-9306-4e47-87c7-9a46910ce41a",
   "metadata": {},
   "outputs": [
    {
     "data": {
      "text/plain": [
       "(128976, 19)"
      ]
     },
     "execution_count": 4,
     "metadata": {},
     "output_type": "execute_result"
    }
   ],
   "source": [
    "amz.shape"
   ]
  },
  {
   "cell_type": "code",
   "execution_count": 5,
   "id": "dfd430fb-59d6-4871-87f6-42f951f9d112",
   "metadata": {},
   "outputs": [
    {
     "data": {
      "text/html": [
       "<div>\n",
       "<style scoped>\n",
       "    .dataframe tbody tr th:only-of-type {\n",
       "        vertical-align: middle;\n",
       "    }\n",
       "\n",
       "    .dataframe tbody tr th {\n",
       "        vertical-align: top;\n",
       "    }\n",
       "\n",
       "    .dataframe thead th {\n",
       "        text-align: right;\n",
       "    }\n",
       "</style>\n",
       "<table border=\"1\" class=\"dataframe\">\n",
       "  <thead>\n",
       "    <tr style=\"text-align: right;\">\n",
       "      <th></th>\n",
       "      <th>index</th>\n",
       "      <th>Order ID</th>\n",
       "      <th>Date</th>\n",
       "      <th>Status</th>\n",
       "      <th>Fulfilment</th>\n",
       "      <th>Sales Channel</th>\n",
       "      <th>ship-service-level</th>\n",
       "      <th>Category</th>\n",
       "      <th>Size</th>\n",
       "      <th>Courier Status</th>\n",
       "      <th>Qty</th>\n",
       "      <th>currency</th>\n",
       "      <th>Amount</th>\n",
       "      <th>ship-city</th>\n",
       "      <th>ship-state</th>\n",
       "      <th>ship-postal-code</th>\n",
       "      <th>ship-country</th>\n",
       "      <th>B2B</th>\n",
       "      <th>fulfilled-by</th>\n",
       "    </tr>\n",
       "  </thead>\n",
       "  <tbody>\n",
       "    <tr>\n",
       "      <th>0</th>\n",
       "      <td>0</td>\n",
       "      <td>405-8078784-5731545</td>\n",
       "      <td>4/30/2022</td>\n",
       "      <td>Cancelled</td>\n",
       "      <td>Merchant</td>\n",
       "      <td>Amazon.in</td>\n",
       "      <td>Standard</td>\n",
       "      <td>T-shirt</td>\n",
       "      <td>S</td>\n",
       "      <td>On the Way</td>\n",
       "      <td>0</td>\n",
       "      <td>INR</td>\n",
       "      <td>647.62</td>\n",
       "      <td>MUMBAI</td>\n",
       "      <td>MAHARASHTRA</td>\n",
       "      <td>400081.0</td>\n",
       "      <td>IN</td>\n",
       "      <td>False</td>\n",
       "      <td>Easy Ship</td>\n",
       "    </tr>\n",
       "    <tr>\n",
       "      <th>1</th>\n",
       "      <td>1</td>\n",
       "      <td>171-9198151-1101146</td>\n",
       "      <td>4/30/2022</td>\n",
       "      <td>Shipped - Delivered to Buyer</td>\n",
       "      <td>Merchant</td>\n",
       "      <td>Amazon.in</td>\n",
       "      <td>Standard</td>\n",
       "      <td>Shirt</td>\n",
       "      <td>3XL</td>\n",
       "      <td>Shipped</td>\n",
       "      <td>1</td>\n",
       "      <td>INR</td>\n",
       "      <td>406.00</td>\n",
       "      <td>BENGALURU</td>\n",
       "      <td>KARNATAKA</td>\n",
       "      <td>560085.0</td>\n",
       "      <td>IN</td>\n",
       "      <td>False</td>\n",
       "      <td>Easy Ship</td>\n",
       "    </tr>\n",
       "    <tr>\n",
       "      <th>2</th>\n",
       "      <td>2</td>\n",
       "      <td>404-0687676-7273146</td>\n",
       "      <td>4/30/2022</td>\n",
       "      <td>Shipped</td>\n",
       "      <td>Amazon</td>\n",
       "      <td>Amazon.in</td>\n",
       "      <td>Expedited</td>\n",
       "      <td>Shirt</td>\n",
       "      <td>XL</td>\n",
       "      <td>Shipped</td>\n",
       "      <td>1</td>\n",
       "      <td>INR</td>\n",
       "      <td>329.00</td>\n",
       "      <td>NAVI MUMBAI</td>\n",
       "      <td>MAHARASHTRA</td>\n",
       "      <td>410210.0</td>\n",
       "      <td>IN</td>\n",
       "      <td>True</td>\n",
       "      <td>NaN</td>\n",
       "    </tr>\n",
       "    <tr>\n",
       "      <th>3</th>\n",
       "      <td>3</td>\n",
       "      <td>403-9615377-8133951</td>\n",
       "      <td>4/30/2022</td>\n",
       "      <td>Cancelled</td>\n",
       "      <td>Merchant</td>\n",
       "      <td>Amazon.in</td>\n",
       "      <td>Standard</td>\n",
       "      <td>Blazzer</td>\n",
       "      <td>L</td>\n",
       "      <td>On the Way</td>\n",
       "      <td>0</td>\n",
       "      <td>INR</td>\n",
       "      <td>753.33</td>\n",
       "      <td>PUDUCHERRY</td>\n",
       "      <td>PUDUCHERRY</td>\n",
       "      <td>605008.0</td>\n",
       "      <td>IN</td>\n",
       "      <td>False</td>\n",
       "      <td>Easy Ship</td>\n",
       "    </tr>\n",
       "    <tr>\n",
       "      <th>4</th>\n",
       "      <td>4</td>\n",
       "      <td>407-1069790-7240320</td>\n",
       "      <td>4/30/2022</td>\n",
       "      <td>Shipped</td>\n",
       "      <td>Amazon</td>\n",
       "      <td>Amazon.in</td>\n",
       "      <td>Expedited</td>\n",
       "      <td>Trousers</td>\n",
       "      <td>3XL</td>\n",
       "      <td>Shipped</td>\n",
       "      <td>1</td>\n",
       "      <td>INR</td>\n",
       "      <td>574.00</td>\n",
       "      <td>CHENNAI</td>\n",
       "      <td>TAMIL NADU</td>\n",
       "      <td>600073.0</td>\n",
       "      <td>IN</td>\n",
       "      <td>False</td>\n",
       "      <td>NaN</td>\n",
       "    </tr>\n",
       "  </tbody>\n",
       "</table>\n",
       "</div>"
      ],
      "text/plain": [
       "   index             Order ID       Date                        Status  \\\n",
       "0      0  405-8078784-5731545  4/30/2022                     Cancelled   \n",
       "1      1  171-9198151-1101146  4/30/2022  Shipped - Delivered to Buyer   \n",
       "2      2  404-0687676-7273146  4/30/2022                       Shipped   \n",
       "3      3  403-9615377-8133951  4/30/2022                     Cancelled   \n",
       "4      4  407-1069790-7240320  4/30/2022                       Shipped   \n",
       "\n",
       "  Fulfilment Sales Channel ship-service-level  Category Size Courier Status  \\\n",
       "0   Merchant     Amazon.in           Standard   T-shirt    S     On the Way   \n",
       "1   Merchant     Amazon.in           Standard     Shirt  3XL        Shipped   \n",
       "2     Amazon     Amazon.in          Expedited     Shirt   XL        Shipped   \n",
       "3   Merchant     Amazon.in           Standard   Blazzer    L     On the Way   \n",
       "4     Amazon     Amazon.in          Expedited  Trousers  3XL        Shipped   \n",
       "\n",
       "   Qty currency  Amount    ship-city   ship-state  ship-postal-code  \\\n",
       "0    0      INR  647.62       MUMBAI  MAHARASHTRA          400081.0   \n",
       "1    1      INR  406.00    BENGALURU    KARNATAKA          560085.0   \n",
       "2    1      INR  329.00  NAVI MUMBAI  MAHARASHTRA          410210.0   \n",
       "3    0      INR  753.33   PUDUCHERRY   PUDUCHERRY          605008.0   \n",
       "4    1      INR  574.00      CHENNAI   TAMIL NADU          600073.0   \n",
       "\n",
       "  ship-country    B2B fulfilled-by  \n",
       "0           IN  False    Easy Ship  \n",
       "1           IN  False    Easy Ship  \n",
       "2           IN   True          NaN  \n",
       "3           IN  False    Easy Ship  \n",
       "4           IN  False          NaN  "
      ]
     },
     "execution_count": 5,
     "metadata": {},
     "output_type": "execute_result"
    }
   ],
   "source": [
    "amz.head()"
   ]
  },
  {
   "cell_type": "code",
   "execution_count": 6,
   "id": "1ee3b287-792c-4d1c-b1dc-210abe425e92",
   "metadata": {},
   "outputs": [
    {
     "name": "stdout",
     "output_type": "stream",
     "text": [
      "<class 'pandas.core.frame.DataFrame'>\n",
      "RangeIndex: 128976 entries, 0 to 128975\n",
      "Data columns (total 19 columns):\n",
      " #   Column              Non-Null Count   Dtype  \n",
      "---  ------              --------------   -----  \n",
      " 0   index               128976 non-null  int64  \n",
      " 1   Order ID            128976 non-null  object \n",
      " 2   Date                128976 non-null  object \n",
      " 3   Status              128976 non-null  object \n",
      " 4   Fulfilment          128976 non-null  object \n",
      " 5   Sales Channel       128976 non-null  object \n",
      " 6   ship-service-level  128976 non-null  object \n",
      " 7   Category            128976 non-null  object \n",
      " 8   Size                128976 non-null  object \n",
      " 9   Courier Status      128976 non-null  object \n",
      " 10  Qty                 128976 non-null  int64  \n",
      " 11  currency            121176 non-null  object \n",
      " 12  Amount              121176 non-null  float64\n",
      " 13  ship-city           128941 non-null  object \n",
      " 14  ship-state          128941 non-null  object \n",
      " 15  ship-postal-code    128941 non-null  float64\n",
      " 16  ship-country        128941 non-null  object \n",
      " 17  B2B                 128976 non-null  bool   \n",
      " 18  fulfilled-by        39263 non-null   object \n",
      "dtypes: bool(1), float64(2), int64(2), object(14)\n",
      "memory usage: 17.8+ MB\n"
     ]
    }
   ],
   "source": [
    "amz.info()"
   ]
  },
  {
   "cell_type": "markdown",
   "id": "1d6e868c-08e3-41fe-a361-28740b638ee2",
   "metadata": {},
   "source": [
    "#### Finding duplicate rows"
   ]
  },
  {
   "cell_type": "code",
   "execution_count": 8,
   "id": "67eb3eb3-2ca1-4c97-81cb-5071bde9fdd2",
   "metadata": {},
   "outputs": [
    {
     "data": {
      "text/html": [
       "<div>\n",
       "<style scoped>\n",
       "    .dataframe tbody tr th:only-of-type {\n",
       "        vertical-align: middle;\n",
       "    }\n",
       "\n",
       "    .dataframe tbody tr th {\n",
       "        vertical-align: top;\n",
       "    }\n",
       "\n",
       "    .dataframe thead th {\n",
       "        text-align: right;\n",
       "    }\n",
       "</style>\n",
       "<table border=\"1\" class=\"dataframe\">\n",
       "  <thead>\n",
       "    <tr style=\"text-align: right;\">\n",
       "      <th></th>\n",
       "      <th>index</th>\n",
       "      <th>Order ID</th>\n",
       "      <th>Date</th>\n",
       "      <th>Status</th>\n",
       "      <th>Fulfilment</th>\n",
       "      <th>Sales Channel</th>\n",
       "      <th>ship-service-level</th>\n",
       "      <th>Category</th>\n",
       "      <th>Size</th>\n",
       "      <th>Courier Status</th>\n",
       "      <th>Qty</th>\n",
       "      <th>currency</th>\n",
       "      <th>Amount</th>\n",
       "      <th>ship-city</th>\n",
       "      <th>ship-state</th>\n",
       "      <th>ship-postal-code</th>\n",
       "      <th>ship-country</th>\n",
       "      <th>B2B</th>\n",
       "      <th>fulfilled-by</th>\n",
       "    </tr>\n",
       "  </thead>\n",
       "  <tbody>\n",
       "    <tr>\n",
       "      <th>201</th>\n",
       "      <td>6</td>\n",
       "      <td>408-5748499-6859555</td>\n",
       "      <td>4/30/2022</td>\n",
       "      <td>Shipped</td>\n",
       "      <td>Amazon</td>\n",
       "      <td>Amazon.in</td>\n",
       "      <td>Expedited</td>\n",
       "      <td>T-shirt</td>\n",
       "      <td>L</td>\n",
       "      <td>Shipped</td>\n",
       "      <td>1</td>\n",
       "      <td>INR</td>\n",
       "      <td>653.0</td>\n",
       "      <td>CHANDIGARH</td>\n",
       "      <td>CHANDIGARH</td>\n",
       "      <td>160036.0</td>\n",
       "      <td>IN</td>\n",
       "      <td>False</td>\n",
       "      <td>NaN</td>\n",
       "    </tr>\n",
       "    <tr>\n",
       "      <th>202</th>\n",
       "      <td>7</td>\n",
       "      <td>406-7807733-3785945</td>\n",
       "      <td>4/30/2022</td>\n",
       "      <td>Shipped - Delivered to Buyer</td>\n",
       "      <td>Merchant</td>\n",
       "      <td>Amazon.in</td>\n",
       "      <td>Standard</td>\n",
       "      <td>Shirt</td>\n",
       "      <td>S</td>\n",
       "      <td>Shipped</td>\n",
       "      <td>1</td>\n",
       "      <td>INR</td>\n",
       "      <td>399.0</td>\n",
       "      <td>HYDERABAD</td>\n",
       "      <td>TELANGANA</td>\n",
       "      <td>500032.0</td>\n",
       "      <td>IN</td>\n",
       "      <td>False</td>\n",
       "      <td>Easy Ship</td>\n",
       "    </tr>\n",
       "    <tr>\n",
       "      <th>203</th>\n",
       "      <td>8</td>\n",
       "      <td>407-5443024-5233168</td>\n",
       "      <td>4/30/2022</td>\n",
       "      <td>Cancelled</td>\n",
       "      <td>Amazon</td>\n",
       "      <td>Amazon.in</td>\n",
       "      <td>Expedited</td>\n",
       "      <td>T-shirt</td>\n",
       "      <td>3XL</td>\n",
       "      <td>Cancelled</td>\n",
       "      <td>0</td>\n",
       "      <td>NaN</td>\n",
       "      <td>NaN</td>\n",
       "      <td>HYDERABAD</td>\n",
       "      <td>TELANGANA</td>\n",
       "      <td>500008.0</td>\n",
       "      <td>IN</td>\n",
       "      <td>False</td>\n",
       "      <td>NaN</td>\n",
       "    </tr>\n",
       "    <tr>\n",
       "      <th>204</th>\n",
       "      <td>9</td>\n",
       "      <td>402-4393761-0311520</td>\n",
       "      <td>4/30/2022</td>\n",
       "      <td>Shipped</td>\n",
       "      <td>Amazon</td>\n",
       "      <td>Amazon.in</td>\n",
       "      <td>Expedited</td>\n",
       "      <td>Shirt</td>\n",
       "      <td>XXL</td>\n",
       "      <td>Shipped</td>\n",
       "      <td>1</td>\n",
       "      <td>INR</td>\n",
       "      <td>363.0</td>\n",
       "      <td>Chennai</td>\n",
       "      <td>TAMIL NADU</td>\n",
       "      <td>600041.0</td>\n",
       "      <td>IN</td>\n",
       "      <td>False</td>\n",
       "      <td>NaN</td>\n",
       "    </tr>\n",
       "    <tr>\n",
       "      <th>205</th>\n",
       "      <td>10</td>\n",
       "      <td>407-5633625-6970741</td>\n",
       "      <td>4/30/2022</td>\n",
       "      <td>Shipped</td>\n",
       "      <td>Amazon</td>\n",
       "      <td>Amazon.in</td>\n",
       "      <td>Expedited</td>\n",
       "      <td>Shirt</td>\n",
       "      <td>S</td>\n",
       "      <td>Shipped</td>\n",
       "      <td>1</td>\n",
       "      <td>INR</td>\n",
       "      <td>685.0</td>\n",
       "      <td>CHENNAI</td>\n",
       "      <td>TAMIL NADU</td>\n",
       "      <td>600073.0</td>\n",
       "      <td>IN</td>\n",
       "      <td>False</td>\n",
       "      <td>NaN</td>\n",
       "    </tr>\n",
       "    <tr>\n",
       "      <th>...</th>\n",
       "      <td>...</td>\n",
       "      <td>...</td>\n",
       "      <td>...</td>\n",
       "      <td>...</td>\n",
       "      <td>...</td>\n",
       "      <td>...</td>\n",
       "      <td>...</td>\n",
       "      <td>...</td>\n",
       "      <td>...</td>\n",
       "      <td>...</td>\n",
       "      <td>...</td>\n",
       "      <td>...</td>\n",
       "      <td>...</td>\n",
       "      <td>...</td>\n",
       "      <td>...</td>\n",
       "      <td>...</td>\n",
       "      <td>...</td>\n",
       "      <td>...</td>\n",
       "      <td>...</td>\n",
       "    </tr>\n",
       "    <tr>\n",
       "      <th>6640</th>\n",
       "      <td>6278</td>\n",
       "      <td>171-5170733-7855514</td>\n",
       "      <td>4/26/2022</td>\n",
       "      <td>Shipped - Delivered to Buyer</td>\n",
       "      <td>Merchant</td>\n",
       "      <td>Amazon.in</td>\n",
       "      <td>Standard</td>\n",
       "      <td>T-shirt</td>\n",
       "      <td>XS</td>\n",
       "      <td>Shipped</td>\n",
       "      <td>1</td>\n",
       "      <td>INR</td>\n",
       "      <td>582.0</td>\n",
       "      <td>HYDERABAD</td>\n",
       "      <td>TELANGANA</td>\n",
       "      <td>500083.0</td>\n",
       "      <td>IN</td>\n",
       "      <td>False</td>\n",
       "      <td>Easy Ship</td>\n",
       "    </tr>\n",
       "    <tr>\n",
       "      <th>6641</th>\n",
       "      <td>6279</td>\n",
       "      <td>403-8137343-5206760</td>\n",
       "      <td>4/26/2022</td>\n",
       "      <td>Shipped - Delivered to Buyer</td>\n",
       "      <td>Merchant</td>\n",
       "      <td>Amazon.in</td>\n",
       "      <td>Standard</td>\n",
       "      <td>T-shirt</td>\n",
       "      <td>XS</td>\n",
       "      <td>Shipped</td>\n",
       "      <td>1</td>\n",
       "      <td>INR</td>\n",
       "      <td>801.0</td>\n",
       "      <td>KALPETTA</td>\n",
       "      <td>KERALA</td>\n",
       "      <td>673122.0</td>\n",
       "      <td>IN</td>\n",
       "      <td>False</td>\n",
       "      <td>Easy Ship</td>\n",
       "    </tr>\n",
       "    <tr>\n",
       "      <th>6642</th>\n",
       "      <td>6280</td>\n",
       "      <td>408-1575454-3263526</td>\n",
       "      <td>4/26/2022</td>\n",
       "      <td>Shipped - Returned to Seller</td>\n",
       "      <td>Merchant</td>\n",
       "      <td>Amazon.in</td>\n",
       "      <td>Standard</td>\n",
       "      <td>Blazzer</td>\n",
       "      <td>M</td>\n",
       "      <td>Shipped</td>\n",
       "      <td>1</td>\n",
       "      <td>INR</td>\n",
       "      <td>690.0</td>\n",
       "      <td>CHENNAI</td>\n",
       "      <td>TAMIL NADU</td>\n",
       "      <td>600049.0</td>\n",
       "      <td>IN</td>\n",
       "      <td>False</td>\n",
       "      <td>Easy Ship</td>\n",
       "    </tr>\n",
       "    <tr>\n",
       "      <th>6643</th>\n",
       "      <td>6281</td>\n",
       "      <td>171-2918708-7197155</td>\n",
       "      <td>4/26/2022</td>\n",
       "      <td>Shipped - Delivered to Buyer</td>\n",
       "      <td>Merchant</td>\n",
       "      <td>Amazon.in</td>\n",
       "      <td>Standard</td>\n",
       "      <td>Blazzer</td>\n",
       "      <td>XXL</td>\n",
       "      <td>Shipped</td>\n",
       "      <td>1</td>\n",
       "      <td>INR</td>\n",
       "      <td>658.0</td>\n",
       "      <td>PUNE</td>\n",
       "      <td>MAHARASHTRA</td>\n",
       "      <td>412207.0</td>\n",
       "      <td>IN</td>\n",
       "      <td>False</td>\n",
       "      <td>Easy Ship</td>\n",
       "    </tr>\n",
       "    <tr>\n",
       "      <th>6644</th>\n",
       "      <td>6282</td>\n",
       "      <td>406-7244956-4740355</td>\n",
       "      <td>4/26/2022</td>\n",
       "      <td>Shipped</td>\n",
       "      <td>Amazon</td>\n",
       "      <td>Amazon.in</td>\n",
       "      <td>Expedited</td>\n",
       "      <td>Trousers</td>\n",
       "      <td>XL</td>\n",
       "      <td>Shipped</td>\n",
       "      <td>1</td>\n",
       "      <td>INR</td>\n",
       "      <td>540.0</td>\n",
       "      <td>RAJKOT</td>\n",
       "      <td>Gujarat</td>\n",
       "      <td>360001.0</td>\n",
       "      <td>IN</td>\n",
       "      <td>False</td>\n",
       "      <td>NaN</td>\n",
       "    </tr>\n",
       "  </tbody>\n",
       "</table>\n",
       "<p>168 rows × 19 columns</p>\n",
       "</div>"
      ],
      "text/plain": [
       "      index             Order ID       Date                        Status  \\\n",
       "201       6  408-5748499-6859555  4/30/2022                       Shipped   \n",
       "202       7  406-7807733-3785945  4/30/2022  Shipped - Delivered to Buyer   \n",
       "203       8  407-5443024-5233168  4/30/2022                     Cancelled   \n",
       "204       9  402-4393761-0311520  4/30/2022                       Shipped   \n",
       "205      10  407-5633625-6970741  4/30/2022                       Shipped   \n",
       "...     ...                  ...        ...                           ...   \n",
       "6640   6278  171-5170733-7855514  4/26/2022  Shipped - Delivered to Buyer   \n",
       "6641   6279  403-8137343-5206760  4/26/2022  Shipped - Delivered to Buyer   \n",
       "6642   6280  408-1575454-3263526  4/26/2022  Shipped - Returned to Seller   \n",
       "6643   6281  171-2918708-7197155  4/26/2022  Shipped - Delivered to Buyer   \n",
       "6644   6282  406-7244956-4740355  4/26/2022                       Shipped   \n",
       "\n",
       "     Fulfilment Sales Channel ship-service-level  Category Size  \\\n",
       "201      Amazon     Amazon.in          Expedited   T-shirt    L   \n",
       "202    Merchant     Amazon.in           Standard     Shirt    S   \n",
       "203      Amazon     Amazon.in          Expedited   T-shirt  3XL   \n",
       "204      Amazon     Amazon.in          Expedited     Shirt  XXL   \n",
       "205      Amazon     Amazon.in          Expedited     Shirt    S   \n",
       "...         ...           ...                ...       ...  ...   \n",
       "6640   Merchant     Amazon.in           Standard   T-shirt   XS   \n",
       "6641   Merchant     Amazon.in           Standard   T-shirt   XS   \n",
       "6642   Merchant     Amazon.in           Standard   Blazzer    M   \n",
       "6643   Merchant     Amazon.in           Standard   Blazzer  XXL   \n",
       "6644     Amazon     Amazon.in          Expedited  Trousers   XL   \n",
       "\n",
       "     Courier Status  Qty currency  Amount   ship-city   ship-state  \\\n",
       "201         Shipped    1      INR   653.0  CHANDIGARH   CHANDIGARH   \n",
       "202         Shipped    1      INR   399.0   HYDERABAD    TELANGANA   \n",
       "203       Cancelled    0      NaN     NaN   HYDERABAD    TELANGANA   \n",
       "204         Shipped    1      INR   363.0     Chennai   TAMIL NADU   \n",
       "205         Shipped    1      INR   685.0     CHENNAI   TAMIL NADU   \n",
       "...             ...  ...      ...     ...         ...          ...   \n",
       "6640        Shipped    1      INR   582.0   HYDERABAD    TELANGANA   \n",
       "6641        Shipped    1      INR   801.0    KALPETTA       KERALA   \n",
       "6642        Shipped    1      INR   690.0     CHENNAI   TAMIL NADU   \n",
       "6643        Shipped    1      INR   658.0        PUNE  MAHARASHTRA   \n",
       "6644        Shipped    1      INR   540.0      RAJKOT      Gujarat   \n",
       "\n",
       "      ship-postal-code ship-country    B2B fulfilled-by  \n",
       "201           160036.0           IN  False          NaN  \n",
       "202           500032.0           IN  False    Easy Ship  \n",
       "203           500008.0           IN  False          NaN  \n",
       "204           600041.0           IN  False          NaN  \n",
       "205           600073.0           IN  False          NaN  \n",
       "...                ...          ...    ...          ...  \n",
       "6640          500083.0           IN  False    Easy Ship  \n",
       "6641          673122.0           IN  False    Easy Ship  \n",
       "6642          600049.0           IN  False    Easy Ship  \n",
       "6643          412207.0           IN  False    Easy Ship  \n",
       "6644          360001.0           IN  False          NaN  \n",
       "\n",
       "[168 rows x 19 columns]"
      ]
     },
     "execution_count": 8,
     "metadata": {},
     "output_type": "execute_result"
    }
   ],
   "source": [
    "amz[amz.duplicated()]"
   ]
  },
  {
   "cell_type": "code",
   "execution_count": 9,
   "id": "8c511459-ef4d-4557-8d12-67246973e6a1",
   "metadata": {},
   "outputs": [
    {
     "data": {
      "text/plain": [
       "168"
      ]
     },
     "execution_count": 9,
     "metadata": {},
     "output_type": "execute_result"
    }
   ],
   "source": [
    "amz.duplicated().sum()"
   ]
  },
  {
   "cell_type": "markdown",
   "id": "73a63f61-8357-458c-8474-e1d809e7b84e",
   "metadata": {},
   "source": [
    "#### Removing duplicate rows"
   ]
  },
  {
   "cell_type": "code",
   "execution_count": 11,
   "id": "8add3cd5-6d8e-4b0d-96d7-42d75c89ff75",
   "metadata": {},
   "outputs": [
    {
     "data": {
      "text/plain": [
       "None"
      ]
     },
     "metadata": {},
     "output_type": "display_data"
    }
   ],
   "source": [
    "display(amz.drop_duplicates(keep = False, inplace = True))"
   ]
  },
  {
   "cell_type": "code",
   "execution_count": 12,
   "id": "375c485d-a8f5-4050-a1fc-f19bfe2e5be9",
   "metadata": {},
   "outputs": [
    {
     "data": {
      "text/plain": [
       "0"
      ]
     },
     "execution_count": 12,
     "metadata": {},
     "output_type": "execute_result"
    }
   ],
   "source": [
    "amz.duplicated().sum()"
   ]
  },
  {
   "cell_type": "markdown",
   "id": "aa568e77-1125-4906-80f4-c466a3fe93c4",
   "metadata": {},
   "source": [
    "#### Finding and removing total null values in each column"
   ]
  },
  {
   "cell_type": "code",
   "execution_count": 14,
   "id": "3ca75cab-a85c-4410-89f9-a9060d3cd9fc",
   "metadata": {},
   "outputs": [
    {
     "data": {
      "text/plain": [
       "index                     0\n",
       "Order ID                  0\n",
       "Date                      0\n",
       "Status                    0\n",
       "Fulfilment                0\n",
       "Sales Channel             0\n",
       "ship-service-level        0\n",
       "Category                  0\n",
       "Size                      0\n",
       "Courier Status            0\n",
       "Qty                       0\n",
       "currency               7778\n",
       "Amount                 7778\n",
       "ship-city                31\n",
       "ship-state               31\n",
       "ship-postal-code         31\n",
       "ship-country             31\n",
       "B2B                       0\n",
       "fulfilled-by          89477\n",
       "dtype: int64"
      ]
     },
     "execution_count": 14,
     "metadata": {},
     "output_type": "execute_result"
    }
   ],
   "source": [
    "amz.isna().sum()"
   ]
  },
  {
   "cell_type": "markdown",
   "id": "e3972f38-dbb4-4444-b26c-3d19f48ba24d",
   "metadata": {},
   "source": [
    "Since, ship-city, ship-state, ship-postal-code, ship-country has only 31 balnks, removing it."
   ]
  },
  {
   "cell_type": "code",
   "execution_count": 16,
   "id": "f31f1ff9-03f4-4de0-9ea9-f5f8989961d0",
   "metadata": {},
   "outputs": [],
   "source": [
    "amz.dropna(subset = 'ship-city',inplace=True)"
   ]
  },
  {
   "cell_type": "code",
   "execution_count": 17,
   "id": "bb4a4326-76f5-454c-ad1c-7a3d79efbc2c",
   "metadata": {},
   "outputs": [
    {
     "data": {
      "text/plain": [
       "index                     0\n",
       "Order ID                  0\n",
       "Date                      0\n",
       "Status                    0\n",
       "Fulfilment                0\n",
       "Sales Channel             0\n",
       "ship-service-level        0\n",
       "Category                  0\n",
       "Size                      0\n",
       "Courier Status            0\n",
       "Qty                       0\n",
       "currency               7776\n",
       "Amount                 7776\n",
       "ship-city                 0\n",
       "ship-state                0\n",
       "ship-postal-code          0\n",
       "ship-country              0\n",
       "B2B                       0\n",
       "fulfilled-by          89459\n",
       "dtype: int64"
      ]
     },
     "execution_count": 17,
     "metadata": {},
     "output_type": "execute_result"
    }
   ],
   "source": [
    "amz.isna().sum()"
   ]
  },
  {
   "cell_type": "code",
   "execution_count": 18,
   "id": "8c4b0338-2b6a-4610-9202-0100aca86151",
   "metadata": {},
   "outputs": [
    {
     "data": {
      "text/plain": [
       "array(['INR', nan], dtype=object)"
      ]
     },
     "execution_count": 18,
     "metadata": {},
     "output_type": "execute_result"
    }
   ],
   "source": [
    "pd.unique(amz['currency'])"
   ]
  },
  {
   "cell_type": "code",
   "execution_count": 19,
   "id": "5f7d32ee-6ee5-4428-acb9-a6ba8e77d1a8",
   "metadata": {},
   "outputs": [],
   "source": [
    "amz.fillna({'currency':'INR'}, inplace = True)"
   ]
  },
  {
   "cell_type": "code",
   "execution_count": 20,
   "id": "7e97854a-7bf7-45e0-b46c-8331f11d5ebb",
   "metadata": {},
   "outputs": [
    {
     "data": {
      "text/plain": [
       "array(['INR'], dtype=object)"
      ]
     },
     "execution_count": 20,
     "metadata": {},
     "output_type": "execute_result"
    }
   ],
   "source": [
    "pd.unique(amz['currency'])"
   ]
  },
  {
   "cell_type": "code",
   "execution_count": 21,
   "id": "62facea6-99cb-4923-8de7-cd409325bb36",
   "metadata": {},
   "outputs": [
    {
     "data": {
      "text/plain": [
       "array(['Easy Ship', nan], dtype=object)"
      ]
     },
     "execution_count": 21,
     "metadata": {},
     "output_type": "execute_result"
    }
   ],
   "source": [
    "pd.unique(amz['fulfilled-by'])"
   ]
  },
  {
   "cell_type": "markdown",
   "id": "0799bf35-4699-492e-99a0-50b3c4f44708",
   "metadata": {},
   "source": [
    "Self Ship: Sellers are responsible for shipping"
   ]
  },
  {
   "cell_type": "code",
   "execution_count": 23,
   "id": "534cde06-b4b1-46db-80d0-877985434f70",
   "metadata": {},
   "outputs": [],
   "source": [
    "amz.fillna({'fulfilled-by':'Self Ship'}, inplace = True)"
   ]
  },
  {
   "cell_type": "code",
   "execution_count": 24,
   "id": "85a2450e-d642-4b57-af00-19495b212118",
   "metadata": {},
   "outputs": [
    {
     "data": {
      "text/plain": [
       "array(['Easy Ship', 'Self Ship'], dtype=object)"
      ]
     },
     "execution_count": 24,
     "metadata": {},
     "output_type": "execute_result"
    }
   ],
   "source": [
    "pd.unique(amz['fulfilled-by'])"
   ]
  },
  {
   "cell_type": "code",
   "execution_count": 25,
   "id": "55a9ed90-4dc8-41e9-af02-13e26e75ca8d",
   "metadata": {},
   "outputs": [
    {
     "data": {
      "text/plain": [
       "array(['MAHARASHTRA', 'KARNATAKA', 'PUDUCHERRY', 'TAMIL NADU',\n",
       "       'UTTAR PRADESH', 'ANDHRA PRADESH', 'RAJASTHAN', 'DELHI', 'HARYANA',\n",
       "       'TELANGANA', 'ASSAM', 'JHARKHAND', 'CHHATTISGARH', 'ODISHA',\n",
       "       'KERALA', 'MADHYA PRADESH', 'WEST BENGAL', 'NAGALAND', 'Gujarat',\n",
       "       'UTTARAKHAND', 'BIHAR', 'JAMMU & KASHMIR', 'PUNJAB',\n",
       "       'HIMACHAL PRADESH', 'ARUNACHAL PRADESH', 'Goa', 'MEGHALAYA', 'GOA',\n",
       "       'MANIPUR', 'TRIPURA', 'LADAKH', 'DADRA AND NAGAR', 'CHANDIGARH',\n",
       "       'SIKKIM', 'Delhi', 'ANDAMAN & NICOBAR', 'Punjab', 'Rajshthan',\n",
       "       'Manipur', 'rajasthan', 'Odisha', 'NL', 'Bihar', 'MIZORAM',\n",
       "       'punjab', 'New Delhi', 'Rajasthan', 'Punjab/Mohali/Zirakpur',\n",
       "       'Puducherry', 'delhi', 'RJ', 'Chandigarh', 'orissa', 'LAKSHADWEEP',\n",
       "       'goa', 'PB', 'APO', 'Arunachal Pradesh', 'AR', 'Pondicherry',\n",
       "       'Sikkim', 'Arunachal pradesh', 'Nagaland', 'bihar', 'Mizoram',\n",
       "       'rajsthan', 'Orissa', 'Rajsthan', 'Meghalaya'], dtype=object)"
      ]
     },
     "execution_count": 25,
     "metadata": {},
     "output_type": "execute_result"
    }
   ],
   "source": [
    "pd.unique(amz['ship-state'])"
   ]
  },
  {
   "cell_type": "code",
   "execution_count": 26,
   "id": "58b25792-be20-400a-bbc9-1f3d884b8297",
   "metadata": {},
   "outputs": [
    {
     "data": {
      "text/plain": [
       "array(['ANDAMAN & NICOBAR ISLANDS', 'ANDHRA PRADESH', 'ARUNACHAL PRADESH',\n",
       "       'ASSAM', 'BIHAR', 'CHANDIGARH', 'CHHATTISGARH',\n",
       "       'DADRA AND NAGAR HAVELI AND DAMAN AND DIU', 'DELHI', 'GOA',\n",
       "       'GUJARAT', 'HARYANA', 'HIMACHAL PRADESH', 'JAMMU & KASHMIR',\n",
       "       'JHARKHAND', 'KARNATAKA', 'KERALA', 'LADAKH', 'LAKSHADWEEP',\n",
       "       'MADHYA PRADESH', 'MAHARASHTRA', 'MANIPUR', 'MEGHALAYA', 'MIZORAM',\n",
       "       'NAGALAND', 'ODISHA', 'PUDUCHERRY', 'PUNJAB', 'RAJASTHAN',\n",
       "       'SIKKIM', 'TAMIL NADU', 'TELANGANA', 'TRIPURA', 'UTTAR PRADESH',\n",
       "       'UTTARAKHAND', 'WEST BENGAL'], dtype=object)"
      ]
     },
     "execution_count": 26,
     "metadata": {},
     "output_type": "execute_result"
    }
   ],
   "source": [
    "region = {'ANDAMAN & NICOBAR': 'ANDAMAN & NICOBAR ISLANDS',\n",
    " 'ANDHRA PRADESH': 'ANDHRA PRADESH',\n",
    " 'APO': 'ANDHRA PRADESH',\n",
    " 'AR': 'ARUNACHAL PRADESH',\n",
    " 'ARUNACHAL PRADESH': 'ARUNACHAL PRADESH',\n",
    " 'ASSAM': 'ASSAM',\n",
    " 'Arunachal Pradesh': 'ARUNACHAL PRADESH',\n",
    " 'Arunachal pradesh': 'ARUNACHAL PRADESH',\n",
    " 'BIHAR': 'BIHAR',\n",
    " 'Bihar': 'BIHAR',\n",
    " 'CHANDIGARH': 'CHANDIGARH',\n",
    " 'CHHATTISGARH': 'CHHATTISGARH',\n",
    " 'Chandigarh': 'CHANDIGARH',\n",
    " 'DELHI': 'DELHI',\n",
    " 'Delhi': 'DELHI',\n",
    " 'DADRA AND NAGAR': 'DADRA AND NAGAR HAVELI AND DAMAN AND DIU',\n",
    " 'GOA': 'GOA',\n",
    " 'Gujarat': 'GUJARAT',\n",
    " 'Goa': 'GOA',\n",
    " 'HARYANA': 'HARYANA',\n",
    " 'HIMACHAL PRADESH': 'HIMACHAL PRADESH',\n",
    " 'JAMMU & KASHMIR': 'JAMMU & KASHMIR',\n",
    " 'JHARKHAND': 'JHARKHAND',\n",
    " 'KARNATAKA': 'KARNATAKA',\n",
    " 'KERALA': 'KERALA',\n",
    " 'LAKSHADWEEP': 'LAKSHADWEEP',\n",
    " 'MADHYA PRADESH': 'MADHYA PRADESH',\n",
    " 'MEGHALAYA': 'MEGHALAYA',\n",
    " 'MIZORAM': 'MIZORAM',\n",
    " 'Manipur': 'MANIPUR',\n",
    " 'Meghalaya': 'MEGHALAYA',\n",
    " 'Mizoram': 'MIZORAM',\n",
    " 'NAGALAND': 'NAGALAND',\n",
    " 'NL': 'NAGALAND',\n",
    " 'Nagaland': 'NAGALAND',\n",
    " 'New Delhi': 'DELHI',\n",
    " 'ODISHA': 'ODISHA',\n",
    " 'Odisha': 'ODISHA',\n",
    " 'Orissa': 'ODISHA',\n",
    " 'PB': 'PUNJAB',\n",
    " 'PUDUCHERRY': 'PUDUCHERRY',\n",
    " 'PUNJAB': 'PUNJAB',\n",
    " 'Pondicherry': 'PUDUCHERRY',\n",
    " 'Puducherry': 'PUDUCHERRY',\n",
    " 'Punjab': 'PUNJAB',\n",
    " 'Punjab/Mohali/Zirakpur': 'PUNJAB',\n",
    " 'RAJASTHAN': 'RAJASTHAN',\n",
    " 'RJ': 'RAJASTHAN',\n",
    " 'Rajasthan': 'RAJASTHAN',\n",
    " 'Rajshthan': 'RAJASTHAN',\n",
    " 'Rajsthan': 'RAJASTHAN',\n",
    " 'SIKKIM': 'SIKKIM',\n",
    " 'Sikkim': 'SIKKIM',\n",
    " 'TAMIL NADU': 'TAMIL NADU',\n",
    " 'TELANGANA': 'TELANGANA',\n",
    " 'TRIPURA': 'TRIPURA',\n",
    " 'UTTAR PRADESH': 'UTTAR PRADESH',\n",
    " 'UTTARAKHAND': 'UTTARAKHAND',\n",
    " 'WEST BENGAL': 'WEST BENGAL',\n",
    " 'bihar': 'BIHAR',\n",
    " 'delhi': 'DELHI',\n",
    " 'goa': 'GOA',\n",
    " 'meghalaya': 'MEGHALAYA',\n",
    " 'mizoram': 'MIZORAM',\n",
    " 'nagaland': 'NAGALAND',\n",
    " 'orissa': 'ODISHA',\n",
    " 'punjab': 'PUNJAB',\n",
    " 'rajasthan': 'RAJASTHAN',\n",
    " 'rajsthan': 'RAJASTHAN',\n",
    " 'sikkim': 'SIKKIM'}\n",
    "\n",
    "amz['ship-state'] = amz['ship-state'].replace(region)\n",
    "amz['ship-state'].sort_values().unique()"
   ]
  },
  {
   "cell_type": "code",
   "execution_count": 27,
   "id": "d8388c98-dda7-4220-b34f-8d9992989ec9",
   "metadata": {},
   "outputs": [
    {
     "data": {
      "text/plain": [
       "index                    0\n",
       "Order ID                 0\n",
       "Date                     0\n",
       "Status                   0\n",
       "Fulfilment               0\n",
       "Sales Channel            0\n",
       "ship-service-level       0\n",
       "Category                 0\n",
       "Size                     0\n",
       "Courier Status           0\n",
       "Qty                      0\n",
       "currency                 0\n",
       "Amount                7776\n",
       "ship-city                0\n",
       "ship-state               0\n",
       "ship-postal-code         0\n",
       "ship-country             0\n",
       "B2B                      0\n",
       "fulfilled-by             0\n",
       "dtype: int64"
      ]
     },
     "execution_count": 27,
     "metadata": {},
     "output_type": "execute_result"
    }
   ],
   "source": [
    "amz.isna().sum()"
   ]
  },
  {
   "cell_type": "code",
   "execution_count": 28,
   "id": "cb46bf36-4196-4c5c-b6a8-ce2abcd8b78f",
   "metadata": {},
   "outputs": [
    {
     "data": {
      "image/png": "[encoded data removed]",
      "text/plain": [
       "<Figure size 640x480 with 1 Axes>"
      ]
     },
     "metadata": {},
     "output_type": "display_data"
    }
   ],
   "source": [
    "sns.boxplot(amz['Amount'])\n",
    "plt.show()"
   ]
  },
  {
   "cell_type": "code",
   "execution_count": 29,
   "id": "3b1f3ecd-0c3e-48a7-8008-aaa25736d9ed",
   "metadata": {},
   "outputs": [
    {
     "data": {
      "text/html": [
       "<div>\n",
       "<style scoped>\n",
       "    .dataframe tbody tr th:only-of-type {\n",
       "        vertical-align: middle;\n",
       "    }\n",
       "\n",
       "    .dataframe tbody tr th {\n",
       "        vertical-align: top;\n",
       "    }\n",
       "\n",
       "    .dataframe thead th {\n",
       "        text-align: right;\n",
       "    }\n",
       "</style>\n",
       "<table border=\"1\" class=\"dataframe\">\n",
       "  <thead>\n",
       "    <tr style=\"text-align: right;\">\n",
       "      <th></th>\n",
       "      <th>Amount</th>\n",
       "    </tr>\n",
       "  </thead>\n",
       "  <tbody>\n",
       "    <tr>\n",
       "      <th>count</th>\n",
       "      <td>120833.000000</td>\n",
       "    </tr>\n",
       "    <tr>\n",
       "      <th>mean</th>\n",
       "      <td>648.710886</td>\n",
       "    </tr>\n",
       "    <tr>\n",
       "      <th>std</th>\n",
       "      <td>281.273230</td>\n",
       "    </tr>\n",
       "    <tr>\n",
       "      <th>min</th>\n",
       "      <td>0.000000</td>\n",
       "    </tr>\n",
       "    <tr>\n",
       "      <th>25%</th>\n",
       "      <td>449.000000</td>\n",
       "    </tr>\n",
       "    <tr>\n",
       "      <th>50%</th>\n",
       "      <td>605.000000</td>\n",
       "    </tr>\n",
       "    <tr>\n",
       "      <th>75%</th>\n",
       "      <td>788.000000</td>\n",
       "    </tr>\n",
       "    <tr>\n",
       "      <th>max</th>\n",
       "      <td>5584.000000</td>\n",
       "    </tr>\n",
       "  </tbody>\n",
       "</table>\n",
       "</div>"
      ],
      "text/plain": [
       "              Amount\n",
       "count  120833.000000\n",
       "mean      648.710886\n",
       "std       281.273230\n",
       "min         0.000000\n",
       "25%       449.000000\n",
       "50%       605.000000\n",
       "75%       788.000000\n",
       "max      5584.000000"
      ]
     },
     "execution_count": 29,
     "metadata": {},
     "output_type": "execute_result"
    }
   ],
   "source": [
    "amz[['Amount']].describe()"
   ]
  },
  {
   "cell_type": "code",
   "execution_count": 30,
   "id": "0533f498-30f2-4716-bd7c-bcd9445559cc",
   "metadata": {},
   "outputs": [
    {
     "data": {
      "text/plain": [
       "42040     5584.00\n",
       "11161     5495.00\n",
       "24495     4235.72\n",
       "89151     3036.00\n",
       "121226    2894.00\n",
       "28815     2864.00\n",
       "39945     2860.00\n",
       "79900     2796.00\n",
       "63975     2698.00\n",
       "75761     2676.00\n",
       "121020    2664.00\n",
       "54606     2655.00\n",
       "69528     2598.00\n",
       "114177    2598.00\n",
       "112947    2598.00\n",
       "56308     2598.00\n",
       "67765     2598.00\n",
       "126822    2598.00\n",
       "77635     2442.00\n",
       "77432     2442.00\n",
       "46868     2397.00\n",
       "96228     2389.28\n",
       "84012     2372.00\n",
       "55851     2372.00\n",
       "63813     2372.00\n",
       "Name: Amount, dtype: float64"
      ]
     },
     "execution_count": 30,
     "metadata": {},
     "output_type": "execute_result"
    }
   ],
   "source": [
    "amz['Amount'].sort_values(ascending = False).head(25)"
   ]
  },
  {
   "cell_type": "code",
   "execution_count": 31,
   "id": "96ac9a2b-96d2-4bd4-b4e3-64c780ad0ca5",
   "metadata": {},
   "outputs": [
    {
     "data": {
      "text/plain": [
       "(128609, 19)"
      ]
     },
     "execution_count": 31,
     "metadata": {},
     "output_type": "execute_result"
    }
   ],
   "source": [
    "amz.shape"
   ]
  },
  {
   "cell_type": "markdown",
   "id": "412e222a-7eac-4aa6-a8aa-124ad7431a77",
   "metadata": {},
   "source": [
    "changing null values in Amount with its median"
   ]
  },
  {
   "cell_type": "code",
   "execution_count": 33,
   "id": "03457713-dd05-4810-a7dd-fcdb2a9b052b",
   "metadata": {},
   "outputs": [],
   "source": [
    "amz.fillna(amz['Amount'].median(),inplace = True)"
   ]
  },
  {
   "cell_type": "code",
   "execution_count": 34,
   "id": "6b054e13-1ca1-4982-8c8e-81d148de842b",
   "metadata": {},
   "outputs": [
    {
     "data": {
      "text/plain": [
       "index                 0\n",
       "Order ID              0\n",
       "Date                  0\n",
       "Status                0\n",
       "Fulfilment            0\n",
       "Sales Channel         0\n",
       "ship-service-level    0\n",
       "Category              0\n",
       "Size                  0\n",
       "Courier Status        0\n",
       "Qty                   0\n",
       "currency              0\n",
       "Amount                0\n",
       "ship-city             0\n",
       "ship-state            0\n",
       "ship-postal-code      0\n",
       "ship-country          0\n",
       "B2B                   0\n",
       "fulfilled-by          0\n",
       "dtype: int64"
      ]
     },
     "execution_count": 34,
     "metadata": {},
     "output_type": "execute_result"
    }
   ],
   "source": [
    "amz.isna().sum()"
   ]
  },
  {
   "cell_type": "markdown",
   "id": "625e9498-c86c-4a3f-9b9e-f45d08242f3b",
   "metadata": {},
   "source": [
    "#### Datatypes checking and changing"
   ]
  },
  {
   "cell_type": "code",
   "execution_count": 36,
   "id": "6015053b-26c7-4d74-8bd5-2c3de505fab8",
   "metadata": {},
   "outputs": [
    {
     "data": {
      "text/plain": [
       "index                   int64\n",
       "Order ID               object\n",
       "Date                   object\n",
       "Status                 object\n",
       "Fulfilment             object\n",
       "Sales Channel          object\n",
       "ship-service-level     object\n",
       "Category               object\n",
       "Size                   object\n",
       "Courier Status         object\n",
       "Qty                     int64\n",
       "currency               object\n",
       "Amount                float64\n",
       "ship-city              object\n",
       "ship-state             object\n",
       "ship-postal-code      float64\n",
       "ship-country           object\n",
       "B2B                      bool\n",
       "fulfilled-by           object\n",
       "dtype: object"
      ]
     },
     "execution_count": 36,
     "metadata": {},
     "output_type": "execute_result"
    }
   ],
   "source": [
    "amz.dtypes"
   ]
  },
  {
   "cell_type": "code",
   "execution_count": 37,
   "id": "dc5dbee2-080b-4a04-81a7-b2be0cc3ee1c",
   "metadata": {},
   "outputs": [],
   "source": [
    "amz.rename(columns = {'Qty':'Quantity'}, inplace = True)"
   ]
  },
  {
   "cell_type": "markdown",
   "id": "7e75054c-2db1-443c-b435-b5041446b4fa",
   "metadata": {},
   "source": [
    "Perviously, date had object dtype, changing to datetime"
   ]
  },
  {
   "cell_type": "markdown",
   "id": "5f675fc6-b8c3-49ff-af07-f772b2b13866",
   "metadata": {},
   "source": [
    "Multiple date format into single date format and aslo convert date from object dtype to datetime"
   ]
  },
  {
   "cell_type": "code",
   "execution_count": 40,
   "id": "29d74789-6558-4f96-8b54-764c75220b5e",
   "metadata": {},
   "outputs": [
    {
     "name": "stdout",
     "output_type": "stream",
     "text": [
      "<class 'pandas.core.frame.DataFrame'>\n",
      "Index: 128609 entries, 0 to 128975\n",
      "Data columns (total 19 columns):\n",
      " #   Column              Non-Null Count   Dtype  \n",
      "---  ------              --------------   -----  \n",
      " 0   index               128609 non-null  int64  \n",
      " 1   Order ID            128609 non-null  object \n",
      " 2   Date                128609 non-null  object \n",
      " 3   Status              128609 non-null  object \n",
      " 4   Fulfilment          128609 non-null  object \n",
      " 5   Sales Channel       128609 non-null  object \n",
      " 6   ship-service-level  128609 non-null  object \n",
      " 7   Category            128609 non-null  object \n",
      " 8   Size                128609 non-null  object \n",
      " 9   Courier Status      128609 non-null  object \n",
      " 10  Quantity            128609 non-null  int64  \n",
      " 11  currency            128609 non-null  object \n",
      " 12  Amount              128609 non-null  float64\n",
      " 13  ship-city           128609 non-null  object \n",
      " 14  ship-state          128609 non-null  object \n",
      " 15  ship-postal-code    128609 non-null  float64\n",
      " 16  ship-country        128609 non-null  object \n",
      " 17  B2B                 128609 non-null  bool   \n",
      " 18  fulfilled-by        128609 non-null  object \n",
      "dtypes: bool(1), float64(2), int64(2), object(14)\n",
      "memory usage: 18.8+ MB\n"
     ]
    }
   ],
   "source": [
    "amz.info()"
   ]
  },
  {
   "cell_type": "code",
   "execution_count": 41,
   "id": "36c952a5-9860-4c38-b9e7-ae22d1ac7a3a",
   "metadata": {},
   "outputs": [],
   "source": [
    "amz['Date'] = pd.to_datetime(amz['Date'], format='mixed', dayfirst=True, errors='coerce')"
   ]
  },
  {
   "cell_type": "code",
   "execution_count": 42,
   "id": "8a0e651e-4af6-4687-ae5e-e664a8d42957",
   "metadata": {},
   "outputs": [
    {
     "data": {
      "text/plain": [
       "(Timestamp('2022-01-04 00:00:00'), Timestamp('2022-12-06 00:00:00'))"
      ]
     },
     "execution_count": 42,
     "metadata": {},
     "output_type": "execute_result"
    }
   ],
   "source": [
    "amz['Date'].min(), amz['Date'].max()"
   ]
  },
  {
   "cell_type": "markdown",
   "id": "856b4bbd-83b6-46e2-a7ad-9f13dc5be527",
   "metadata": {},
   "source": [
    "Perviously ship-postal-code had float dtype, changing to int"
   ]
  },
  {
   "cell_type": "code",
   "execution_count": 44,
   "id": "f4d86af2-7ff6-44e9-9276-580dd1a7d4be",
   "metadata": {},
   "outputs": [],
   "source": [
    "amz['ship-postal-code'] = amz['ship-postal-code'].astype('int')"
   ]
  },
  {
   "cell_type": "code",
   "execution_count": 45,
   "id": "cd1238a4-e83e-490d-b9fc-341dd8f27f06",
   "metadata": {},
   "outputs": [],
   "source": [
    "amz.drop(['index', 'currency', 'ship-country'], axis=1, inplace=True)"
   ]
  },
  {
   "cell_type": "code",
   "execution_count": 46,
   "id": "ae6720f0-4108-4928-bfa7-c40d27f99ae6",
   "metadata": {},
   "outputs": [
    {
     "name": "stdout",
     "output_type": "stream",
     "text": [
      "<class 'pandas.core.frame.DataFrame'>\n",
      "Index: 128609 entries, 0 to 128975\n",
      "Data columns (total 16 columns):\n",
      " #   Column              Non-Null Count   Dtype         \n",
      "---  ------              --------------   -----         \n",
      " 0   Order ID            128609 non-null  object        \n",
      " 1   Date                128609 non-null  datetime64[ns]\n",
      " 2   Status              128609 non-null  object        \n",
      " 3   Fulfilment          128609 non-null  object        \n",
      " 4   Sales Channel       128609 non-null  object        \n",
      " 5   ship-service-level  128609 non-null  object        \n",
      " 6   Category            128609 non-null  object        \n",
      " 7   Size                128609 non-null  object        \n",
      " 8   Courier Status      128609 non-null  object        \n",
      " 9   Quantity            128609 non-null  int64         \n",
      " 10  Amount              128609 non-null  float64       \n",
      " 11  ship-city           128609 non-null  object        \n",
      " 12  ship-state          128609 non-null  object        \n",
      " 13  ship-postal-code    128609 non-null  int32         \n",
      " 14  B2B                 128609 non-null  bool          \n",
      " 15  fulfilled-by        128609 non-null  object        \n",
      "dtypes: bool(1), datetime64[ns](1), float64(1), int32(1), int64(1), object(11)\n",
      "memory usage: 15.3+ MB\n"
     ]
    }
   ],
   "source": [
    "amz.info()"
   ]
  },
  {
   "cell_type": "code",
   "execution_count": 47,
   "id": "9873877c-ecc4-43d4-8386-0fd82b8f339a",
   "metadata": {},
   "outputs": [
    {
     "data": {
      "text/plain": [
       "(128609, 16)"
      ]
     },
     "execution_count": 47,
     "metadata": {},
     "output_type": "execute_result"
    }
   ],
   "source": [
    "amz.shape"
   ]
  },
  {
   "cell_type": "markdown",
   "id": "dfb36bc7-e30b-40b5-92ce-59091286cc32",
   "metadata": {},
   "source": [
    "### Now, data is clean."
   ]
  },
  {
   "cell_type": "markdown",
   "id": "816c4be1-4d64-4d1f-97d9-411a6ddd28c4",
   "metadata": {},
   "source": [
    "# Exploratory Data Analysis"
   ]
  },
  {
   "cell_type": "markdown",
   "id": "ea3525c4-c9c2-49aa-bff3-bde7c7e1ab3a",
   "metadata": {},
   "source": [
    "### Distribution of Order Percentages by Months"
   ]
  },
  {
   "cell_type": "code",
   "execution_count": 51,
   "id": "57cbc668-9639-470e-ad6f-12eabfe3f80c",
   "metadata": {},
   "outputs": [
    {
     "data": {
      "text/html": [
       "<div>\n",
       "<style scoped>\n",
       "    .dataframe tbody tr th:only-of-type {\n",
       "        vertical-align: middle;\n",
       "    }\n",
       "\n",
       "    .dataframe tbody tr th {\n",
       "        vertical-align: top;\n",
       "    }\n",
       "\n",
       "    .dataframe thead th {\n",
       "        text-align: right;\n",
       "    }\n",
       "</style>\n",
       "<table border=\"1\" class=\"dataframe\">\n",
       "  <thead>\n",
       "    <tr style=\"text-align: right;\">\n",
       "      <th></th>\n",
       "      <th>Order Count</th>\n",
       "      <th>Percentage</th>\n",
       "    </tr>\n",
       "    <tr>\n",
       "      <th>Date</th>\n",
       "      <th></th>\n",
       "      <th></th>\n",
       "    </tr>\n",
       "  </thead>\n",
       "  <tbody>\n",
       "    <tr>\n",
       "      <th>2022-01</th>\n",
       "      <td>4802</td>\n",
       "      <td>3.733798</td>\n",
       "    </tr>\n",
       "    <tr>\n",
       "      <th>2022-02</th>\n",
       "      <td>5045</td>\n",
       "      <td>3.922743</td>\n",
       "    </tr>\n",
       "    <tr>\n",
       "      <th>2022-03</th>\n",
       "      <td>5174</td>\n",
       "      <td>4.023047</td>\n",
       "    </tr>\n",
       "    <tr>\n",
       "      <th>2022-04</th>\n",
       "      <td>34681</td>\n",
       "      <td>26.966231</td>\n",
       "    </tr>\n",
       "    <tr>\n",
       "      <th>2022-05</th>\n",
       "      <td>28180</td>\n",
       "      <td>21.911375</td>\n",
       "    </tr>\n",
       "    <tr>\n",
       "      <th>2022-06</th>\n",
       "      <td>24543</td>\n",
       "      <td>19.083423</td>\n",
       "    </tr>\n",
       "    <tr>\n",
       "      <th>2022-07</th>\n",
       "      <td>4501</td>\n",
       "      <td>3.499755</td>\n",
       "    </tr>\n",
       "    <tr>\n",
       "      <th>2022-08</th>\n",
       "      <td>4738</td>\n",
       "      <td>3.684035</td>\n",
       "    </tr>\n",
       "    <tr>\n",
       "      <th>2022-09</th>\n",
       "      <td>4496</td>\n",
       "      <td>3.495867</td>\n",
       "    </tr>\n",
       "    <tr>\n",
       "      <th>2022-10</th>\n",
       "      <td>4211</td>\n",
       "      <td>3.274265</td>\n",
       "    </tr>\n",
       "    <tr>\n",
       "      <th>2022-11</th>\n",
       "      <td>4106</td>\n",
       "      <td>3.192623</td>\n",
       "    </tr>\n",
       "    <tr>\n",
       "      <th>2022-12</th>\n",
       "      <td>4132</td>\n",
       "      <td>3.212839</td>\n",
       "    </tr>\n",
       "  </tbody>\n",
       "</table>\n",
       "</div>"
      ],
      "text/plain": [
       "         Order Count  Percentage\n",
       "Date                            \n",
       "2022-01         4802    3.733798\n",
       "2022-02         5045    3.922743\n",
       "2022-03         5174    4.023047\n",
       "2022-04        34681   26.966231\n",
       "2022-05        28180   21.911375\n",
       "2022-06        24543   19.083423\n",
       "2022-07         4501    3.499755\n",
       "2022-08         4738    3.684035\n",
       "2022-09         4496    3.495867\n",
       "2022-10         4211    3.274265\n",
       "2022-11         4106    3.192623\n",
       "2022-12         4132    3.212839"
      ]
     },
     "execution_count": 51,
     "metadata": {},
     "output_type": "execute_result"
    }
   ],
   "source": [
    "order_counts = amz.groupby(amz['Date'].dt.to_period('M')).size()\n",
    "order_percentages = (order_counts / len(amz)) * 100\n",
    "order_summary = pd.DataFrame({'Order Count': order_counts, 'Percentage': order_percentages})\n",
    "order_summary"
   ]
  },
  {
   "cell_type": "code",
   "execution_count": 52,
   "id": "1e6f408d-33bc-48fb-abc8-d167bf46675c",
   "metadata": {},
   "outputs": [
    {
     "data": {
      "image/png": "[encoded data removed]",
      "text/plain": [
       "<Figure size 640x480 with 1 Axes>"
      ]
     },
     "metadata": {},
     "output_type": "display_data"
    }
   ],
   "source": [
    "st = sns.countplot(x=amz['Date'].dt.to_period('M'), order=amz['Date'].dt.to_period('M').sort_values().unique())\n",
    "plt.xticks(rotation=90)\n",
    "plt.grid(False)\n",
    "plt.gca().get_yaxis().set_visible(False)\n",
    "\n",
    "for p in st.patches:\n",
    "    height = p.get_height()\n",
    "    category = p.get_x() + p.get_width() / 2\n",
    "    percentage = (height / len(amz)) * 100\n",
    "    st.text(p.get_x() + p.get_width() / 2, height + 0.2, f'{percentage:.1f}%', \n",
    "            ha='center', va='bottom', fontsize=10)\n",
    "\n",
    "plt.title('Percentage of orders in each month')\n",
    "plt.show()"
   ]
  },
  {
   "cell_type": "markdown",
   "id": "d155c847-10c7-443f-aa8f-c963504de93f",
   "metadata": {},
   "source": [
    "Top 3 months with highest orders are:\n",
    "1) April\n",
    "2) May\n",
    "3) June"
   ]
  },
  {
   "cell_type": "markdown",
   "id": "d145660f-057d-403b-b0c4-5a32cf88116b",
   "metadata": {},
   "source": [
    "#### Distribution of Order Percentages by Status"
   ]
  },
  {
   "cell_type": "code",
   "execution_count": 55,
   "id": "b33df9ba-adb7-4871-87a7-8ae3445e214d",
   "metadata": {},
   "outputs": [
    {
     "data": {
      "text/html": [
       "<div>\n",
       "<style scoped>\n",
       "    .dataframe tbody tr th:only-of-type {\n",
       "        vertical-align: middle;\n",
       "    }\n",
       "\n",
       "    .dataframe tbody tr th {\n",
       "        vertical-align: top;\n",
       "    }\n",
       "\n",
       "    .dataframe thead th {\n",
       "        text-align: right;\n",
       "    }\n",
       "</style>\n",
       "<table border=\"1\" class=\"dataframe\">\n",
       "  <thead>\n",
       "    <tr style=\"text-align: right;\">\n",
       "      <th></th>\n",
       "      <th>Order Count</th>\n",
       "      <th>Percentage</th>\n",
       "    </tr>\n",
       "    <tr>\n",
       "      <th>Status</th>\n",
       "      <th></th>\n",
       "      <th></th>\n",
       "    </tr>\n",
       "  </thead>\n",
       "  <tbody>\n",
       "    <tr>\n",
       "      <th>Cancelled</th>\n",
       "      <td>18281</td>\n",
       "      <td>14.214402</td>\n",
       "    </tr>\n",
       "    <tr>\n",
       "      <th>Pending</th>\n",
       "      <td>658</td>\n",
       "      <td>0.511628</td>\n",
       "    </tr>\n",
       "    <tr>\n",
       "      <th>Pending - Waiting for Pick Up</th>\n",
       "      <td>281</td>\n",
       "      <td>0.218492</td>\n",
       "    </tr>\n",
       "    <tr>\n",
       "      <th>Shipped</th>\n",
       "      <td>77597</td>\n",
       "      <td>60.335591</td>\n",
       "    </tr>\n",
       "    <tr>\n",
       "      <th>Shipped - Damaged</th>\n",
       "      <td>1</td>\n",
       "      <td>0.000778</td>\n",
       "    </tr>\n",
       "    <tr>\n",
       "      <th>Shipped - Delivered to Buyer</th>\n",
       "      <td>28667</td>\n",
       "      <td>22.290042</td>\n",
       "    </tr>\n",
       "    <tr>\n",
       "      <th>Shipped - Lost in Transit</th>\n",
       "      <td>5</td>\n",
       "      <td>0.003888</td>\n",
       "    </tr>\n",
       "    <tr>\n",
       "      <th>Shipped - Out for Delivery</th>\n",
       "      <td>35</td>\n",
       "      <td>0.027214</td>\n",
       "    </tr>\n",
       "    <tr>\n",
       "      <th>Shipped - Picked Up</th>\n",
       "      <td>973</td>\n",
       "      <td>0.756557</td>\n",
       "    </tr>\n",
       "    <tr>\n",
       "      <th>Shipped - Rejected by Buyer</th>\n",
       "      <td>11</td>\n",
       "      <td>0.008553</td>\n",
       "    </tr>\n",
       "    <tr>\n",
       "      <th>Shipped - Returned to Seller</th>\n",
       "      <td>1947</td>\n",
       "      <td>1.513891</td>\n",
       "    </tr>\n",
       "    <tr>\n",
       "      <th>Shipped - Returning to Seller</th>\n",
       "      <td>145</td>\n",
       "      <td>0.112745</td>\n",
       "    </tr>\n",
       "    <tr>\n",
       "      <th>Shipping</th>\n",
       "      <td>8</td>\n",
       "      <td>0.006220</td>\n",
       "    </tr>\n",
       "  </tbody>\n",
       "</table>\n",
       "</div>"
      ],
      "text/plain": [
       "                               Order Count  Percentage\n",
       "Status                                                \n",
       "Cancelled                            18281   14.214402\n",
       "Pending                                658    0.511628\n",
       "Pending - Waiting for Pick Up          281    0.218492\n",
       "Shipped                              77597   60.335591\n",
       "Shipped - Damaged                        1    0.000778\n",
       "Shipped - Delivered to Buyer         28667   22.290042\n",
       "Shipped - Lost in Transit                5    0.003888\n",
       "Shipped - Out for Delivery              35    0.027214\n",
       "Shipped - Picked Up                    973    0.756557\n",
       "Shipped - Rejected by Buyer             11    0.008553\n",
       "Shipped - Returned to Seller          1947    1.513891\n",
       "Shipped - Returning to Seller          145    0.112745\n",
       "Shipping                                 8    0.006220"
      ]
     },
     "execution_count": 55,
     "metadata": {},
     "output_type": "execute_result"
    }
   ],
   "source": [
    "order_counts = amz.groupby('Status').size()\n",
    "order_percentages = (order_counts / len(amz)) * 100\n",
    "order_summary = pd.DataFrame({'Order Count': order_counts, 'Percentage': order_percentages})\n",
    "order_summary"
   ]
  },
  {
   "cell_type": "code",
   "execution_count": 56,
   "id": "6de592d0-6887-445e-865f-b38940a38f47",
   "metadata": {},
   "outputs": [
    {
     "data": {
      "image/png": "[encoded data removed]",
      "text/plain": [
       "<Figure size 640x480 with 1 Axes>"
      ]
     },
     "metadata": {},
     "output_type": "display_data"
    }
   ],
   "source": [
    "st = sns.countplot(x='Status', data=amz, order=amz['Status'].value_counts().index)\n",
    "plt.xticks(rotation=90)\n",
    "plt.yscale('log')\n",
    "plt.grid(False)\n",
    "plt.gca().get_yaxis().set_visible(False)\n",
    "\n",
    "for p in st.patches:\n",
    "    height = p.get_height()\n",
    "    category = p.get_x() + p.get_width() / 2\n",
    "    percentage = (height / len(amz)) * 100\n",
    "    st.text(p.get_x() + p.get_width() / 2, height + 0.2, f'{percentage:.3f}%', \n",
    "            ha='center', va='bottom', fontsize=10, rotation=45)\n",
    "\n",
    "plt.title('Percentage of status of orders')\n",
    "plt.show()"
   ]
  },
  {
   "cell_type": "markdown",
   "id": "1c2b14d5-b20e-4884-9509-5344c4346f9a",
   "metadata": {},
   "source": [
    "14.21% of the total orders are canceled, highlighting a negative aspect that could be improved."
   ]
  },
  {
   "cell_type": "markdown",
   "id": "f23656b9-855a-4bdd-854a-25ac6f82667f",
   "metadata": {},
   "source": [
    "#### Distribution of Order Percentages by Fulfilment"
   ]
  },
  {
   "cell_type": "code",
   "execution_count": 59,
   "id": "b108def1-1416-4bbc-9f0c-12e11f47c12e",
   "metadata": {},
   "outputs": [
    {
     "data": {
      "text/html": [
       "<div>\n",
       "<style scoped>\n",
       "    .dataframe tbody tr th:only-of-type {\n",
       "        vertical-align: middle;\n",
       "    }\n",
       "\n",
       "    .dataframe tbody tr th {\n",
       "        vertical-align: top;\n",
       "    }\n",
       "\n",
       "    .dataframe thead th {\n",
       "        text-align: right;\n",
       "    }\n",
       "</style>\n",
       "<table border=\"1\" class=\"dataframe\">\n",
       "  <thead>\n",
       "    <tr style=\"text-align: right;\">\n",
       "      <th></th>\n",
       "      <th>Order Count</th>\n",
       "      <th>Percentage</th>\n",
       "    </tr>\n",
       "    <tr>\n",
       "      <th>Fulfilment</th>\n",
       "      <th></th>\n",
       "      <th></th>\n",
       "    </tr>\n",
       "  </thead>\n",
       "  <tbody>\n",
       "    <tr>\n",
       "      <th>Amazon</th>\n",
       "      <td>89459</td>\n",
       "      <td>69.558896</td>\n",
       "    </tr>\n",
       "    <tr>\n",
       "      <th>Merchant</th>\n",
       "      <td>39150</td>\n",
       "      <td>30.441104</td>\n",
       "    </tr>\n",
       "  </tbody>\n",
       "</table>\n",
       "</div>"
      ],
      "text/plain": [
       "            Order Count  Percentage\n",
       "Fulfilment                         \n",
       "Amazon            89459   69.558896\n",
       "Merchant          39150   30.441104"
      ]
     },
     "execution_count": 59,
     "metadata": {},
     "output_type": "execute_result"
    }
   ],
   "source": [
    "order_counts = amz.groupby('Fulfilment').size()\n",
    "order_percentages = (order_counts / len(amz)) * 100\n",
    "order_summary = pd.DataFrame({'Order Count': order_counts, 'Percentage': order_percentages})\n",
    "order_summary"
   ]
  },
  {
   "cell_type": "code",
   "execution_count": 60,
   "id": "ee93ad22-abbc-4129-89d3-0fa9467e4521",
   "metadata": {},
   "outputs": [
    {
     "data": {
      "image/png": "[encoded data removed]",
      "text/plain": [
       "<Figure size 640x480 with 1 Axes>"
      ]
     },
     "metadata": {},
     "output_type": "display_data"
    }
   ],
   "source": [
    "plt.pie(amz['Fulfilment'].value_counts(), labels=amz['Fulfilment'].value_counts().index, autopct='%1.1f%%', startangle=90, colors=plt.cm.Paired.colors)\n",
    "plt.title('Percentage of Orders Based on Fulfilment')\n",
    "plt.show()"
   ]
  },
  {
   "cell_type": "markdown",
   "id": "b15bf375-c03a-437d-b263-84057c0cc9ba",
   "metadata": {},
   "source": [
    "Approximately 70% of orders are fulfilled by Amazon, while the remaining 30% are handled by the merchant."
   ]
  },
  {
   "cell_type": "markdown",
   "id": "8c09c6a2-5e50-46f7-9619-d175542a6121",
   "metadata": {},
   "source": [
    "#### Distribution of Order Percentages by Sales Channel"
   ]
  },
  {
   "cell_type": "code",
   "execution_count": 63,
   "id": "6d8debb4-4005-426e-9901-e41a9d56dc1a",
   "metadata": {},
   "outputs": [
    {
     "data": {
      "text/html": [
       "<div>\n",
       "<style scoped>\n",
       "    .dataframe tbody tr th:only-of-type {\n",
       "        vertical-align: middle;\n",
       "    }\n",
       "\n",
       "    .dataframe tbody tr th {\n",
       "        vertical-align: top;\n",
       "    }\n",
       "\n",
       "    .dataframe thead th {\n",
       "        text-align: right;\n",
       "    }\n",
       "</style>\n",
       "<table border=\"1\" class=\"dataframe\">\n",
       "  <thead>\n",
       "    <tr style=\"text-align: right;\">\n",
       "      <th></th>\n",
       "      <th>Order Count</th>\n",
       "      <th>Percentage</th>\n",
       "    </tr>\n",
       "    <tr>\n",
       "      <th>Sales Channel</th>\n",
       "      <th></th>\n",
       "      <th></th>\n",
       "    </tr>\n",
       "  </thead>\n",
       "  <tbody>\n",
       "    <tr>\n",
       "      <th>Amazon.in</th>\n",
       "      <td>128485</td>\n",
       "      <td>99.903584</td>\n",
       "    </tr>\n",
       "    <tr>\n",
       "      <th>Non-Amazon</th>\n",
       "      <td>124</td>\n",
       "      <td>0.096416</td>\n",
       "    </tr>\n",
       "  </tbody>\n",
       "</table>\n",
       "</div>"
      ],
      "text/plain": [
       "               Order Count  Percentage\n",
       "Sales Channel                         \n",
       "Amazon.in           128485   99.903584\n",
       "Non-Amazon             124    0.096416"
      ]
     },
     "execution_count": 63,
     "metadata": {},
     "output_type": "execute_result"
    }
   ],
   "source": [
    "order_counts = amz.groupby('Sales Channel').size()\n",
    "order_percentages = (order_counts / len(amz)) * 100\n",
    "order_summary = pd.DataFrame({'Order Count': order_counts, 'Percentage': order_percentages})\n",
    "order_summary"
   ]
  },
  {
   "cell_type": "code",
   "execution_count": 64,
   "id": "23f6bb7b-0ad8-4740-b162-162c9be1a887",
   "metadata": {},
   "outputs": [
    {
     "data": {
      "image/png": "[encoded data removed]",
      "text/plain": [
       "<Figure size 640x480 with 1 Axes>"
      ]
     },
     "metadata": {},
     "output_type": "display_data"
    }
   ],
   "source": [
    "plt.pie(amz['Sales Channel'].value_counts(), labels=amz['Sales Channel'].value_counts().index, \n",
    "        autopct='%1.1f%%', startangle=90, colors=plt.cm.Paired.colors)\n",
    "plt.title('Percentage of Orders Based on Sales Channel')\n",
    "plt.show()"
   ]
  },
  {
   "cell_type": "markdown",
   "id": "4e665a26-513e-48cd-9030-3059b03d3a39",
   "metadata": {},
   "source": [
    "99.9% of order sales are through Amazon."
   ]
  },
  {
   "cell_type": "markdown",
   "id": "ff94abd5-91cc-4d47-a69a-b971a7b634f8",
   "metadata": {},
   "source": [
    "#### Distribution of Order Percentages by Ship Service Level"
   ]
  },
  {
   "cell_type": "code",
   "execution_count": 67,
   "id": "98a66ce0-4a59-4778-8722-54261d97be64",
   "metadata": {},
   "outputs": [
    {
     "data": {
      "text/html": [
       "<div>\n",
       "<style scoped>\n",
       "    .dataframe tbody tr th:only-of-type {\n",
       "        vertical-align: middle;\n",
       "    }\n",
       "\n",
       "    .dataframe tbody tr th {\n",
       "        vertical-align: top;\n",
       "    }\n",
       "\n",
       "    .dataframe thead th {\n",
       "        text-align: right;\n",
       "    }\n",
       "</style>\n",
       "<table border=\"1\" class=\"dataframe\">\n",
       "  <thead>\n",
       "    <tr style=\"text-align: right;\">\n",
       "      <th></th>\n",
       "      <th>Order Count</th>\n",
       "      <th>Percentage</th>\n",
       "    </tr>\n",
       "    <tr>\n",
       "      <th>ship-service-level</th>\n",
       "      <th></th>\n",
       "      <th></th>\n",
       "    </tr>\n",
       "  </thead>\n",
       "  <tbody>\n",
       "    <tr>\n",
       "      <th>Expedited</th>\n",
       "      <td>88378</td>\n",
       "      <td>68.718363</td>\n",
       "    </tr>\n",
       "    <tr>\n",
       "      <th>Standard</th>\n",
       "      <td>40231</td>\n",
       "      <td>31.281637</td>\n",
       "    </tr>\n",
       "  </tbody>\n",
       "</table>\n",
       "</div>"
      ],
      "text/plain": [
       "                    Order Count  Percentage\n",
       "ship-service-level                         \n",
       "Expedited                 88378   68.718363\n",
       "Standard                  40231   31.281637"
      ]
     },
     "execution_count": 67,
     "metadata": {},
     "output_type": "execute_result"
    }
   ],
   "source": [
    "order_counts = amz.groupby('ship-service-level').size()\n",
    "order_percentages = (order_counts / len(amz)) * 100\n",
    "order_summary = pd.DataFrame({'Order Count': order_counts, 'Percentage': order_percentages})\n",
    "order_summary"
   ]
  },
  {
   "cell_type": "code",
   "execution_count": 68,
   "id": "e6f7cbff-fe15-414c-90f1-99f85e3d4930",
   "metadata": {},
   "outputs": [
    {
     "data": {
      "image/png": "[encoded data removed]",
      "text/plain": [
       "<Figure size 640x480 with 1 Axes>"
      ]
     },
     "metadata": {},
     "output_type": "display_data"
    }
   ],
   "source": [
    "plt.pie(amz['ship-service-level'].value_counts(), labels=amz['ship-service-level'].value_counts().index, \n",
    "        autopct='%1.1f%%', startangle=90, colors=plt.cm.Paired.colors)\n",
    "plt.title('Percentage of Orders Based on ship-service-level')\n",
    "plt.show()"
   ]
  },
  {
   "cell_type": "markdown",
   "id": "f6eaf1e8-fd04-464d-9fa7-a71443c8697a",
   "metadata": {},
   "source": [
    "Expedited shipping accounts for 68.7% of orders, indicating a strong preference among customers for faster delivery over standard shipping options."
   ]
  },
  {
   "cell_type": "markdown",
   "id": "b74aca15-033f-4393-9884-82a6d78c2d9f",
   "metadata": {},
   "source": [
    "#### Distribution of Order Percentages by Category"
   ]
  },
  {
   "cell_type": "code",
   "execution_count": 71,
   "id": "b0eca7e4-3cb5-47b8-b21b-35ef313afcf8",
   "metadata": {},
   "outputs": [
    {
     "data": {
      "text/html": [
       "<div>\n",
       "<style scoped>\n",
       "    .dataframe tbody tr th:only-of-type {\n",
       "        vertical-align: middle;\n",
       "    }\n",
       "\n",
       "    .dataframe tbody tr th {\n",
       "        vertical-align: top;\n",
       "    }\n",
       "\n",
       "    .dataframe thead th {\n",
       "        text-align: right;\n",
       "    }\n",
       "</style>\n",
       "<table border=\"1\" class=\"dataframe\">\n",
       "  <thead>\n",
       "    <tr style=\"text-align: right;\">\n",
       "      <th></th>\n",
       "      <th>Order Count</th>\n",
       "      <th>Percentage</th>\n",
       "    </tr>\n",
       "    <tr>\n",
       "      <th>Category</th>\n",
       "      <th></th>\n",
       "      <th></th>\n",
       "    </tr>\n",
       "  </thead>\n",
       "  <tbody>\n",
       "    <tr>\n",
       "      <th>Blazzer</th>\n",
       "      <td>15477</td>\n",
       "      <td>12.034150</td>\n",
       "    </tr>\n",
       "    <tr>\n",
       "      <th>Perfume</th>\n",
       "      <td>1157</td>\n",
       "      <td>0.899626</td>\n",
       "    </tr>\n",
       "    <tr>\n",
       "      <th>Shirt</th>\n",
       "      <td>49714</td>\n",
       "      <td>38.655149</td>\n",
       "    </tr>\n",
       "    <tr>\n",
       "      <th>Shoes</th>\n",
       "      <td>163</td>\n",
       "      <td>0.126741</td>\n",
       "    </tr>\n",
       "    <tr>\n",
       "      <th>Socks</th>\n",
       "      <td>438</td>\n",
       "      <td>0.340567</td>\n",
       "    </tr>\n",
       "    <tr>\n",
       "      <th>T-shirt</th>\n",
       "      <td>50134</td>\n",
       "      <td>38.981720</td>\n",
       "    </tr>\n",
       "    <tr>\n",
       "      <th>Trousers</th>\n",
       "      <td>10597</td>\n",
       "      <td>8.239703</td>\n",
       "    </tr>\n",
       "    <tr>\n",
       "      <th>Wallet</th>\n",
       "      <td>926</td>\n",
       "      <td>0.720012</td>\n",
       "    </tr>\n",
       "    <tr>\n",
       "      <th>Watch</th>\n",
       "      <td>3</td>\n",
       "      <td>0.002333</td>\n",
       "    </tr>\n",
       "  </tbody>\n",
       "</table>\n",
       "</div>"
      ],
      "text/plain": [
       "          Order Count  Percentage\n",
       "Category                         \n",
       "Blazzer         15477   12.034150\n",
       "Perfume          1157    0.899626\n",
       "Shirt           49714   38.655149\n",
       "Shoes             163    0.126741\n",
       "Socks             438    0.340567\n",
       "T-shirt         50134   38.981720\n",
       "Trousers        10597    8.239703\n",
       "Wallet            926    0.720012\n",
       "Watch               3    0.002333"
      ]
     },
     "execution_count": 71,
     "metadata": {},
     "output_type": "execute_result"
    }
   ],
   "source": [
    "order_counts = amz.groupby('Category').size()\n",
    "order_percentages = (order_counts / len(amz)) * 100\n",
    "order_summary = pd.DataFrame({'Order Count': order_counts, 'Percentage': order_percentages})\n",
    "order_summary"
   ]
  },
  {
   "cell_type": "code",
   "execution_count": 72,
   "id": "aa38813b-a1c2-4c1c-97ba-b6fb1e2afd44",
   "metadata": {},
   "outputs": [
    {
     "data": {
      "image/png": "[encoded data removed]",
      "text/plain": [
       "<Figure size 800x500 with 1 Axes>"
      ]
     },
     "metadata": {},
     "output_type": "display_data"
    }
   ],
   "source": [
    "plt.figure(figsize=(8,5))\n",
    "st = sns.countplot(y='Category', data=amz, order=amz['Category'].value_counts().index)\n",
    "plt.xscale('log')\n",
    "plt.grid(False)\n",
    "plt.gca().get_xaxis().set_visible(False)\n",
    "\n",
    "for p in st.patches:\n",
    "    width = p.get_width()\n",
    "    category = p.get_y() + p.get_height() / 2\n",
    "    percentage = (width / len(amz)) * 100\n",
    "    st.text(width + 0.2, category, f'{percentage:.1f}%', \n",
    "            ha='left', va='center', fontsize=10)\n",
    "\n",
    "plt.title('Percentage of Orders Based on Category')\n",
    "plt.show()"
   ]
  },
  {
   "cell_type": "markdown",
   "id": "3d4e539f-fdd0-4504-a124-5edfdcca402f",
   "metadata": {},
   "source": [
    "The top 3 selling categories are:\n",
    "1) T-shirt\n",
    "2) Shirt\n",
    "3) Blazzer"
   ]
  },
  {
   "cell_type": "markdown",
   "id": "5f957793-590b-4280-84a0-3b0ef0b5cdb0",
   "metadata": {},
   "source": [
    "#### Distribution of Order Percentages by Size"
   ]
  },
  {
   "cell_type": "code",
   "execution_count": 75,
   "id": "b86dc512-4635-43e2-bbfd-600c39615912",
   "metadata": {},
   "outputs": [
    {
     "data": {
      "text/html": [
       "<div>\n",
       "<style scoped>\n",
       "    .dataframe tbody tr th:only-of-type {\n",
       "        vertical-align: middle;\n",
       "    }\n",
       "\n",
       "    .dataframe tbody tr th {\n",
       "        vertical-align: top;\n",
       "    }\n",
       "\n",
       "    .dataframe thead th {\n",
       "        text-align: right;\n",
       "    }\n",
       "</style>\n",
       "<table border=\"1\" class=\"dataframe\">\n",
       "  <thead>\n",
       "    <tr style=\"text-align: right;\">\n",
       "      <th></th>\n",
       "      <th>Order Count</th>\n",
       "      <th>Percentage</th>\n",
       "    </tr>\n",
       "    <tr>\n",
       "      <th>Size</th>\n",
       "      <th></th>\n",
       "      <th></th>\n",
       "    </tr>\n",
       "  </thead>\n",
       "  <tbody>\n",
       "    <tr>\n",
       "      <th>3XL</th>\n",
       "      <td>14608</td>\n",
       "      <td>11.358459</td>\n",
       "    </tr>\n",
       "    <tr>\n",
       "      <th>4XL</th>\n",
       "      <td>425</td>\n",
       "      <td>0.330459</td>\n",
       "    </tr>\n",
       "    <tr>\n",
       "      <th>5XL</th>\n",
       "      <td>550</td>\n",
       "      <td>0.427653</td>\n",
       "    </tr>\n",
       "    <tr>\n",
       "      <th>6XL</th>\n",
       "      <td>738</td>\n",
       "      <td>0.573832</td>\n",
       "    </tr>\n",
       "    <tr>\n",
       "      <th>Free</th>\n",
       "      <td>2249</td>\n",
       "      <td>1.748711</td>\n",
       "    </tr>\n",
       "    <tr>\n",
       "      <th>L</th>\n",
       "      <td>21740</td>\n",
       "      <td>16.903949</td>\n",
       "    </tr>\n",
       "    <tr>\n",
       "      <th>M</th>\n",
       "      <td>22320</td>\n",
       "      <td>17.354929</td>\n",
       "    </tr>\n",
       "    <tr>\n",
       "      <th>S</th>\n",
       "      <td>16726</td>\n",
       "      <td>13.005311</td>\n",
       "    </tr>\n",
       "    <tr>\n",
       "      <th>XL</th>\n",
       "      <td>20487</td>\n",
       "      <td>15.929678</td>\n",
       "    </tr>\n",
       "    <tr>\n",
       "      <th>XS</th>\n",
       "      <td>11009</td>\n",
       "      <td>8.560054</td>\n",
       "    </tr>\n",
       "    <tr>\n",
       "      <th>XXL</th>\n",
       "      <td>17757</td>\n",
       "      <td>13.806965</td>\n",
       "    </tr>\n",
       "  </tbody>\n",
       "</table>\n",
       "</div>"
      ],
      "text/plain": [
       "      Order Count  Percentage\n",
       "Size                         \n",
       "3XL         14608   11.358459\n",
       "4XL           425    0.330459\n",
       "5XL           550    0.427653\n",
       "6XL           738    0.573832\n",
       "Free         2249    1.748711\n",
       "L           21740   16.903949\n",
       "M           22320   17.354929\n",
       "S           16726   13.005311\n",
       "XL          20487   15.929678\n",
       "XS          11009    8.560054\n",
       "XXL         17757   13.806965"
      ]
     },
     "execution_count": 75,
     "metadata": {},
     "output_type": "execute_result"
    }
   ],
   "source": [
    "order_counts = amz.groupby('Size').size()\n",
    "order_percentages = (order_counts / len(amz)) * 100\n",
    "order_summary = pd.DataFrame({'Order Count': order_counts, 'Percentage': order_percentages})\n",
    "order_summary"
   ]
  },
  {
   "cell_type": "code",
   "execution_count": 76,
   "id": "da88afa5-db99-45e9-aece-0265eceead6b",
   "metadata": {},
   "outputs": [
    {
     "data": {
      "image/png": "[encoded data removed]",
      "text/plain": [
       "<Figure size 640x480 with 1 Axes>"
      ]
     },
     "metadata": {},
     "output_type": "display_data"
    }
   ],
   "source": [
    "st = sns.countplot(x='Size', data=amz, order=['XS','S','M','L','XL','XXL','3XL','4XL','5XL','3XL','Free'])\n",
    "plt.xticks(rotation=90)\n",
    "plt.yscale('log')\n",
    "plt.grid(False)\n",
    "plt.gca().get_yaxis().set_visible(False)\n",
    "\n",
    "for p in st.patches:\n",
    "    height = p.get_height()\n",
    "    category = p.get_x() + p.get_width() / 2\n",
    "    percentage = (height / len(amz)) * 100\n",
    "    st.text(p.get_x() + p.get_width() / 2, height + 0.2, f'{percentage:.1f}%', \n",
    "            ha='center', va='bottom', fontsize=10)\n",
    "\n",
    "plt.title('Percentage of Orders base on Size')\n",
    "plt.show()"
   ]
  },
  {
   "cell_type": "markdown",
   "id": "a159fee6-c627-45b9-8982-6b0336bbe373",
   "metadata": {},
   "source": [
    "Size M is the best-selling, while size 4XL is the least popular."
   ]
  },
  {
   "cell_type": "markdown",
   "id": "941ebef2-21be-4679-8355-05acddafe23a",
   "metadata": {},
   "source": [
    "#### Distribution of Order Percentages by Courier Status"
   ]
  },
  {
   "cell_type": "code",
   "execution_count": 79,
   "id": "baf6402d-1905-4a10-a903-a0c903ee31a5",
   "metadata": {},
   "outputs": [
    {
     "data": {
      "text/html": [
       "<div>\n",
       "<style scoped>\n",
       "    .dataframe tbody tr th:only-of-type {\n",
       "        vertical-align: middle;\n",
       "    }\n",
       "\n",
       "    .dataframe tbody tr th {\n",
       "        vertical-align: top;\n",
       "    }\n",
       "\n",
       "    .dataframe thead th {\n",
       "        text-align: right;\n",
       "    }\n",
       "</style>\n",
       "<table border=\"1\" class=\"dataframe\">\n",
       "  <thead>\n",
       "    <tr style=\"text-align: right;\">\n",
       "      <th></th>\n",
       "      <th>Order Count</th>\n",
       "      <th>Percentage</th>\n",
       "    </tr>\n",
       "    <tr>\n",
       "      <th>Courier Status</th>\n",
       "      <th></th>\n",
       "      <th></th>\n",
       "    </tr>\n",
       "  </thead>\n",
       "  <tbody>\n",
       "    <tr>\n",
       "      <th>Cancelled</th>\n",
       "      <td>5916</td>\n",
       "      <td>4.599989</td>\n",
       "    </tr>\n",
       "    <tr>\n",
       "      <th>On the Way</th>\n",
       "      <td>6853</td>\n",
       "      <td>5.328554</td>\n",
       "    </tr>\n",
       "    <tr>\n",
       "      <th>Shipped</th>\n",
       "      <td>109172</td>\n",
       "      <td>84.886750</td>\n",
       "    </tr>\n",
       "    <tr>\n",
       "      <th>Unshipped</th>\n",
       "      <td>6668</td>\n",
       "      <td>5.184707</td>\n",
       "    </tr>\n",
       "  </tbody>\n",
       "</table>\n",
       "</div>"
      ],
      "text/plain": [
       "                Order Count  Percentage\n",
       "Courier Status                         \n",
       "Cancelled              5916    4.599989\n",
       "On the Way             6853    5.328554\n",
       "Shipped              109172   84.886750\n",
       "Unshipped              6668    5.184707"
      ]
     },
     "execution_count": 79,
     "metadata": {},
     "output_type": "execute_result"
    }
   ],
   "source": [
    "order_counts = amz.groupby('Courier Status').size()\n",
    "order_percentages = (order_counts / len(amz)) * 100\n",
    "order_summary = pd.DataFrame({'Order Count': order_counts, 'Percentage': order_percentages})\n",
    "order_summary"
   ]
  },
  {
   "cell_type": "code",
   "execution_count": 80,
   "id": "f2845f52-32af-4403-86f7-2dd4455e1d4a",
   "metadata": {},
   "outputs": [
    {
     "data": {
      "image/png": "[encoded data removed]",
      "text/plain": [
       "<Figure size 640x480 with 1 Axes>"
      ]
     },
     "metadata": {},
     "output_type": "display_data"
    }
   ],
   "source": [
    "plt.pie(amz['Courier Status'].value_counts(), labels=amz['Courier Status'].value_counts().index, \n",
    "        autopct='%1.1f%%', startangle=90, colors=plt.cm.Paired.colors, wedgeprops={'width': 0.3, 'edgecolor': 'white'},\n",
    "       pctdistance=0.9,labeldistance=1.05 )\n",
    "plt.title('Percentage of Orders Based on Courier Status')\n",
    "plt.show()"
   ]
  },
  {
   "cell_type": "markdown",
   "id": "2c3c4e41-567d-41a4-84da-11989cef4510",
   "metadata": {},
   "source": [
    "4.6% of orders are canceled, an issue that needs to be addressed. Additionally, 5.2% of orders remain unshipped, presenting an area for improvement."
   ]
  },
  {
   "cell_type": "markdown",
   "id": "a3d4db45-b85b-4e0a-a7ec-a575d299cfc3",
   "metadata": {},
   "source": [
    "#### Distribution of Order Percentages by Quantity"
   ]
  },
  {
   "cell_type": "code",
   "execution_count": 83,
   "id": "c8c831a1-55f3-4069-8a20-6b474b39fa6f",
   "metadata": {},
   "outputs": [
    {
     "data": {
      "text/html": [
       "<div>\n",
       "<style scoped>\n",
       "    .dataframe tbody tr th:only-of-type {\n",
       "        vertical-align: middle;\n",
       "    }\n",
       "\n",
       "    .dataframe tbody tr th {\n",
       "        vertical-align: top;\n",
       "    }\n",
       "\n",
       "    .dataframe thead th {\n",
       "        text-align: right;\n",
       "    }\n",
       "</style>\n",
       "<table border=\"1\" class=\"dataframe\">\n",
       "  <thead>\n",
       "    <tr style=\"text-align: right;\">\n",
       "      <th></th>\n",
       "      <th>Order Count</th>\n",
       "      <th>Percentage</th>\n",
       "    </tr>\n",
       "    <tr>\n",
       "      <th>Quantity</th>\n",
       "      <th></th>\n",
       "      <th></th>\n",
       "    </tr>\n",
       "  </thead>\n",
       "  <tbody>\n",
       "    <tr>\n",
       "      <th>0</th>\n",
       "      <td>12769</td>\n",
       "      <td>9.928543</td>\n",
       "    </tr>\n",
       "    <tr>\n",
       "      <th>1</th>\n",
       "      <td>115453</td>\n",
       "      <td>89.770545</td>\n",
       "    </tr>\n",
       "    <tr>\n",
       "      <th>2</th>\n",
       "      <td>340</td>\n",
       "      <td>0.264367</td>\n",
       "    </tr>\n",
       "    <tr>\n",
       "      <th>3</th>\n",
       "      <td>32</td>\n",
       "      <td>0.024882</td>\n",
       "    </tr>\n",
       "    <tr>\n",
       "      <th>4</th>\n",
       "      <td>9</td>\n",
       "      <td>0.006998</td>\n",
       "    </tr>\n",
       "    <tr>\n",
       "      <th>5</th>\n",
       "      <td>2</td>\n",
       "      <td>0.001555</td>\n",
       "    </tr>\n",
       "    <tr>\n",
       "      <th>8</th>\n",
       "      <td>1</td>\n",
       "      <td>0.000778</td>\n",
       "    </tr>\n",
       "    <tr>\n",
       "      <th>9</th>\n",
       "      <td>1</td>\n",
       "      <td>0.000778</td>\n",
       "    </tr>\n",
       "    <tr>\n",
       "      <th>13</th>\n",
       "      <td>1</td>\n",
       "      <td>0.000778</td>\n",
       "    </tr>\n",
       "    <tr>\n",
       "      <th>15</th>\n",
       "      <td>1</td>\n",
       "      <td>0.000778</td>\n",
       "    </tr>\n",
       "  </tbody>\n",
       "</table>\n",
       "</div>"
      ],
      "text/plain": [
       "          Order Count  Percentage\n",
       "Quantity                         \n",
       "0               12769    9.928543\n",
       "1              115453   89.770545\n",
       "2                 340    0.264367\n",
       "3                  32    0.024882\n",
       "4                   9    0.006998\n",
       "5                   2    0.001555\n",
       "8                   1    0.000778\n",
       "9                   1    0.000778\n",
       "13                  1    0.000778\n",
       "15                  1    0.000778"
      ]
     },
     "execution_count": 83,
     "metadata": {},
     "output_type": "execute_result"
    }
   ],
   "source": [
    "order_counts = amz.groupby('Quantity').size()\n",
    "order_percentages = (order_counts / len(amz)) * 100\n",
    "order_summary = pd.DataFrame({'Order Count': order_counts, 'Percentage': order_percentages})\n",
    "order_summary"
   ]
  },
  {
   "cell_type": "code",
   "execution_count": 84,
   "id": "2d889aa0-74cf-45b3-8f1a-2d0cfcf0d109",
   "metadata": {},
   "outputs": [
    {
     "data": {
      "image/png": "[encoded data removed]",
      "text/plain": [
       "<Figure size 800x500 with 1 Axes>"
      ]
     },
     "metadata": {},
     "output_type": "display_data"
    }
   ],
   "source": [
    "plt.figure(figsize = (8,5))\n",
    "st = sns.countplot(x='Quantity', data=amz)\n",
    "plt.xticks(rotation=90)\n",
    "plt.yscale('log')\n",
    "plt.grid(False)\n",
    "plt.gca().get_yaxis().set_visible(False)\n",
    "\n",
    "for p in st.patches:\n",
    "    height = p.get_height()\n",
    "    category = p.get_x() + p.get_width() / 2\n",
    "    percentage = (height / len(amz)) * 100\n",
    "    st.text(p.get_x() + p.get_width() / 2, height + 0.2, f'{percentage:.3f}%', \n",
    "            ha='center', va='bottom', fontsize=10, rotation=45)\n",
    "\n",
    "plt.title('Percentage of Orders based on Quantity')\n",
    "plt.show()"
   ]
  },
  {
   "cell_type": "markdown",
   "id": "0fc5c2f5-7e3b-4962-bbb5-b1b93bdbace3",
   "metadata": {},
   "source": [
    "89.77% of customers place orders with a quantity of 1, indicating a strong preference for smaller purchases, which presents an opportunity to encourage larger orders."
   ]
  },
  {
   "cell_type": "markdown",
   "id": "408335bc-61f1-4d22-af03-3298229760d9",
   "metadata": {},
   "source": [
    "#### Distribution of Order Percentages by Amount"
   ]
  },
  {
   "cell_type": "code",
   "execution_count": 87,
   "id": "c8cf6f68-f7d6-45da-9f9c-0aa82e95ea09",
   "metadata": {},
   "outputs": [
    {
     "data": {
      "text/plain": [
       "(0.0, 5584.0)"
      ]
     },
     "execution_count": 87,
     "metadata": {},
     "output_type": "execute_result"
    }
   ],
   "source": [
    "amz['Amount'].min(),amz['Amount'].max()"
   ]
  },
  {
   "cell_type": "code",
   "execution_count": 88,
   "id": "1963530c-5c6c-43d2-ad20-ae1a37cce7d3",
   "metadata": {},
   "outputs": [
    {
     "data": {
      "text/html": [
       "<div>\n",
       "<style scoped>\n",
       "    .dataframe tbody tr th:only-of-type {\n",
       "        vertical-align: middle;\n",
       "    }\n",
       "\n",
       "    .dataframe tbody tr th {\n",
       "        vertical-align: top;\n",
       "    }\n",
       "\n",
       "    .dataframe thead th {\n",
       "        text-align: right;\n",
       "    }\n",
       "</style>\n",
       "<table border=\"1\" class=\"dataframe\">\n",
       "  <thead>\n",
       "    <tr style=\"text-align: right;\">\n",
       "      <th></th>\n",
       "      <th>Order Count</th>\n",
       "      <th>Percentage</th>\n",
       "    </tr>\n",
       "    <tr>\n",
       "      <th>Amount</th>\n",
       "      <th></th>\n",
       "      <th></th>\n",
       "    </tr>\n",
       "  </thead>\n",
       "  <tbody>\n",
       "    <tr>\n",
       "      <th>[500, 1000)</th>\n",
       "      <td>71815</td>\n",
       "      <td>55.839793</td>\n",
       "    </tr>\n",
       "    <tr>\n",
       "      <th>[0, 500)</th>\n",
       "      <td>43488</td>\n",
       "      <td>33.814119</td>\n",
       "    </tr>\n",
       "    <tr>\n",
       "      <th>[1000, 1500)</th>\n",
       "      <td>12565</td>\n",
       "      <td>9.769923</td>\n",
       "    </tr>\n",
       "    <tr>\n",
       "      <th>[1500, 2000)</th>\n",
       "      <td>687</td>\n",
       "      <td>0.534177</td>\n",
       "    </tr>\n",
       "    <tr>\n",
       "      <th>[2000, 2500)</th>\n",
       "      <td>36</td>\n",
       "      <td>0.027992</td>\n",
       "    </tr>\n",
       "    <tr>\n",
       "      <th>[2500, 3000)</th>\n",
       "      <td>14</td>\n",
       "      <td>0.010886</td>\n",
       "    </tr>\n",
       "    <tr>\n",
       "      <th>[3000, 3500)</th>\n",
       "      <td>1</td>\n",
       "      <td>0.000778</td>\n",
       "    </tr>\n",
       "    <tr>\n",
       "      <th>[4000, 4500)</th>\n",
       "      <td>1</td>\n",
       "      <td>0.000778</td>\n",
       "    </tr>\n",
       "    <tr>\n",
       "      <th>[5000, 5500)</th>\n",
       "      <td>1</td>\n",
       "      <td>0.000778</td>\n",
       "    </tr>\n",
       "    <tr>\n",
       "      <th>[5500, 6000)</th>\n",
       "      <td>1</td>\n",
       "      <td>0.000778</td>\n",
       "    </tr>\n",
       "    <tr>\n",
       "      <th>[3500, 4000)</th>\n",
       "      <td>0</td>\n",
       "      <td>0.000000</td>\n",
       "    </tr>\n",
       "    <tr>\n",
       "      <th>[4500, 5000)</th>\n",
       "      <td>0</td>\n",
       "      <td>0.000000</td>\n",
       "    </tr>\n",
       "  </tbody>\n",
       "</table>\n",
       "</div>"
      ],
      "text/plain": [
       "              Order Count  Percentage\n",
       "Amount                               \n",
       "[500, 1000)         71815   55.839793\n",
       "[0, 500)            43488   33.814119\n",
       "[1000, 1500)        12565    9.769923\n",
       "[1500, 2000)          687    0.534177\n",
       "[2000, 2500)           36    0.027992\n",
       "[2500, 3000)           14    0.010886\n",
       "[3000, 3500)            1    0.000778\n",
       "[4000, 4500)            1    0.000778\n",
       "[5000, 5500)            1    0.000778\n",
       "[5500, 6000)            1    0.000778\n",
       "[3500, 4000)            0    0.000000\n",
       "[4500, 5000)            0    0.000000"
      ]
     },
     "execution_count": 88,
     "metadata": {},
     "output_type": "execute_result"
    }
   ],
   "source": [
    "order_counts = pd.cut(amz['Amount'], bins=np.arange(0, 6001, 500), right=False).value_counts()\n",
    "order_percentages = (order_counts / len(amz)) * 100\n",
    "order_summary = pd.DataFrame({'Order Count': order_counts,'Percentage': order_percentages})\n",
    "order_summary"
   ]
  },
  {
   "cell_type": "code",
   "execution_count": 89,
   "id": "34132c29-9aac-4e93-ad3f-81cc7b98d1b7",
   "metadata": {},
   "outputs": [
    {
     "data": {
      "image/png": "[encoded data removed]",
      "text/plain": [
       "<Figure size 800x500 with 1 Axes>"
      ]
     },
     "metadata": {},
     "output_type": "display_data"
    }
   ],
   "source": [
    "plt.figure(figsize = (8,5))\n",
    "st = sns.histplot(amz['Amount'], bins=np.arange(0, 6001, 500))\n",
    "for p in st.patches:\n",
    "    height = p.get_height()\n",
    "    category = p.get_x() + p.get_width() / 2\n",
    "    percentage = (height / len(amz)) * 100\n",
    "    st.text(p.get_x() + p.get_width() / 2, height + 0.2, f'{percentage:.3f}%', \n",
    "            ha='center', va='top', fontsize=8, rotation=45)\n",
    "plt.yscale('log')\n",
    "plt.xlim(0, 6000)\n",
    "plt.gca().get_yaxis().set_visible(False)\n",
    "plt.title('Percentage distribution of orders based on Amount')\n",
    "plt.show()"
   ]
  },
  {
   "cell_type": "markdown",
   "id": "7edd5649-6245-4e04-813e-202c933d08f7",
   "metadata": {},
   "source": [
    "Most of the order volume falls within the INR 500-600 range, with order volume decreasing as the order amount exceeds INR 1000."
   ]
  },
  {
   "cell_type": "markdown",
   "id": "5c119bfc-3ded-4353-8e19-345e7bf4e4f5",
   "metadata": {},
   "source": [
    "#### Distribution of Order Percentages by States"
   ]
  },
  {
   "cell_type": "code",
   "execution_count": 92,
   "id": "befb233d-5c34-4400-9f07-cd9323c01189",
   "metadata": {},
   "outputs": [
    {
     "data": {
      "text/html": [
       "<div>\n",
       "<style scoped>\n",
       "    .dataframe tbody tr th:only-of-type {\n",
       "        vertical-align: middle;\n",
       "    }\n",
       "\n",
       "    .dataframe tbody tr th {\n",
       "        vertical-align: top;\n",
       "    }\n",
       "\n",
       "    .dataframe thead th {\n",
       "        text-align: right;\n",
       "    }\n",
       "</style>\n",
       "<table border=\"1\" class=\"dataframe\">\n",
       "  <thead>\n",
       "    <tr style=\"text-align: right;\">\n",
       "      <th></th>\n",
       "      <th>Order Count</th>\n",
       "      <th>Percentage</th>\n",
       "    </tr>\n",
       "    <tr>\n",
       "      <th>ship-state</th>\n",
       "      <th></th>\n",
       "      <th></th>\n",
       "    </tr>\n",
       "  </thead>\n",
       "  <tbody>\n",
       "    <tr>\n",
       "      <th>MAHARASHTRA</th>\n",
       "      <td>22196</td>\n",
       "      <td>17.258512</td>\n",
       "    </tr>\n",
       "    <tr>\n",
       "      <th>KARNATAKA</th>\n",
       "      <td>17268</td>\n",
       "      <td>13.426743</td>\n",
       "    </tr>\n",
       "    <tr>\n",
       "      <th>TAMIL NADU</th>\n",
       "      <td>11452</td>\n",
       "      <td>8.904509</td>\n",
       "    </tr>\n",
       "    <tr>\n",
       "      <th>TELANGANA</th>\n",
       "      <td>11308</td>\n",
       "      <td>8.792542</td>\n",
       "    </tr>\n",
       "    <tr>\n",
       "      <th>UTTAR PRADESH</th>\n",
       "      <td>10620</td>\n",
       "      <td>8.257587</td>\n",
       "    </tr>\n",
       "  </tbody>\n",
       "</table>\n",
       "</div>"
      ],
      "text/plain": [
       "               Order Count  Percentage\n",
       "ship-state                            \n",
       "MAHARASHTRA          22196   17.258512\n",
       "KARNATAKA            17268   13.426743\n",
       "TAMIL NADU           11452    8.904509\n",
       "TELANGANA            11308    8.792542\n",
       "UTTAR PRADESH        10620    8.257587"
      ]
     },
     "execution_count": 92,
     "metadata": {},
     "output_type": "execute_result"
    }
   ],
   "source": [
    "order_counts = amz['ship-state'].value_counts().nlargest(5)\n",
    "order_percentages = (order_counts / len(amz)) * 100\n",
    "top_5_summary = pd.DataFrame({'Order Count': order_counts,'Percentage': order_percentages})\n",
    "top_5_summary"
   ]
  },
  {
   "cell_type": "code",
   "execution_count": 93,
   "id": "5b073531-3668-4a68-a963-b07e01583b87",
   "metadata": {},
   "outputs": [
    {
     "data": {
      "text/html": [
       "<div>\n",
       "<style scoped>\n",
       "    .dataframe tbody tr th:only-of-type {\n",
       "        vertical-align: middle;\n",
       "    }\n",
       "\n",
       "    .dataframe tbody tr th {\n",
       "        vertical-align: top;\n",
       "    }\n",
       "\n",
       "    .dataframe thead th {\n",
       "        text-align: right;\n",
       "    }\n",
       "</style>\n",
       "<table border=\"1\" class=\"dataframe\">\n",
       "  <thead>\n",
       "    <tr style=\"text-align: right;\">\n",
       "      <th></th>\n",
       "      <th>Order Count</th>\n",
       "      <th>Percentage</th>\n",
       "    </tr>\n",
       "    <tr>\n",
       "      <th>ship-state</th>\n",
       "      <th></th>\n",
       "      <th></th>\n",
       "    </tr>\n",
       "  </thead>\n",
       "  <tbody>\n",
       "    <tr>\n",
       "      <th>LAKSHADWEEP</th>\n",
       "      <td>4</td>\n",
       "      <td>0.003110</td>\n",
       "    </tr>\n",
       "    <tr>\n",
       "      <th>LADAKH</th>\n",
       "      <td>43</td>\n",
       "      <td>0.033435</td>\n",
       "    </tr>\n",
       "    <tr>\n",
       "      <th>DADRA AND NAGAR HAVELI AND DAMAN AND DIU</th>\n",
       "      <td>70</td>\n",
       "      <td>0.054429</td>\n",
       "    </tr>\n",
       "    <tr>\n",
       "      <th>MIZORAM</th>\n",
       "      <td>76</td>\n",
       "      <td>0.059094</td>\n",
       "    </tr>\n",
       "    <tr>\n",
       "      <th>ARUNACHAL PRADESH</th>\n",
       "      <td>147</td>\n",
       "      <td>0.114300</td>\n",
       "    </tr>\n",
       "  </tbody>\n",
       "</table>\n",
       "</div>"
      ],
      "text/plain": [
       "                                          Order Count  Percentage\n",
       "ship-state                                                       \n",
       "LAKSHADWEEP                                         4    0.003110\n",
       "LADAKH                                             43    0.033435\n",
       "DADRA AND NAGAR HAVELI AND DAMAN AND DIU           70    0.054429\n",
       "MIZORAM                                            76    0.059094\n",
       "ARUNACHAL PRADESH                                 147    0.114300"
      ]
     },
     "execution_count": 93,
     "metadata": {},
     "output_type": "execute_result"
    }
   ],
   "source": [
    "order_counts = amz['ship-state'].value_counts().nsmallest(5)\n",
    "order_percentages = (order_counts / len(amz)) * 100\n",
    "bottom_5_summary = pd.DataFrame({'Order Count': order_counts,'Percentage': order_percentages})\n",
    "bottom_5_summary"
   ]
  },
  {
   "cell_type": "code",
   "execution_count": 94,
   "id": "9f743870-ffa5-4bb0-9f87-45b999629e9d",
   "metadata": {},
   "outputs": [
    {
     "data": {
      "image/png": "[encoded data removed]",
      "text/plain": [
       "<Figure size 1000x800 with 2 Axes>"
      ]
     },
     "metadata": {},
     "output_type": "display_data"
    }
   ],
   "source": [
    "plt.figure(figsize=(10, 8))\n",
    "\n",
    "top_5_states = amz['ship-state'].value_counts().nlargest(5).index\n",
    "plt.subplot(1, 2, 1)\n",
    "st_top = sns.countplot(x='ship-state', data=amz[amz['ship-state'].isin(top_5_states)], order=top_5_states, color='skyblue')\n",
    "plt.xticks(rotation=90)\n",
    "plt.grid(False)\n",
    "plt.gca().get_yaxis().set_visible(False)\n",
    "plt.title('Top 5 Ship States by Order Count')\n",
    "\n",
    "for p in st_top.patches:\n",
    "    height = p.get_height()\n",
    "    percentage = (height / len(amz)) * 100\n",
    "    st_top.text(p.get_x() + p.get_width() / 2, height + 0.2, f'{percentage:.3f}%', ha='center', va='bottom', fontsize=10)\n",
    "\n",
    "bottom_5_states = amz['ship-state'].value_counts().nsmallest(5).index\n",
    "plt.subplot(1, 2, 2)\n",
    "st_bottom = sns.countplot(x='ship-state', data=amz[amz['ship-state'].isin(bottom_5_states)], order=bottom_5_states, color='lightcoral')\n",
    "plt.xticks(rotation=90)\n",
    "plt.grid(False)\n",
    "plt.gca().get_yaxis().set_visible(False)\n",
    "plt.title('Bottom 5 Ship States by Order Count')\n",
    "\n",
    "for q in st_bottom.patches:\n",
    "    height = q.get_height()\n",
    "    percentage = (height / len(amz)) * 100\n",
    "    st_bottom.text(q.get_x() + q.get_width() / 2, height/2, f'{percentage:.6f}%', ha='center', va='center', fontsize=10)\n",
    "\n",
    "plt.tight_layout()\n",
    "plt.show()"
   ]
  },
  {
   "cell_type": "markdown",
   "id": "68a0219c-8903-4e9c-af39-9100ee3c7820",
   "metadata": {},
   "source": [
    "The highest order volume comes from Maharashtra, followed by Karnataka and Tamil Nadu. States with the lowest order volumes include LAKSHADWEEP, LADAKH and DADRA AND NAGAR HAVELI AND DAMAN AND DIU."
   ]
  },
  {
   "cell_type": "markdown",
   "id": "355023ac-2cd0-4007-9433-597cf24133e9",
   "metadata": {},
   "source": [
    "#### Distribution of Order Percentages by Cities"
   ]
  },
  {
   "cell_type": "code",
   "execution_count": 97,
   "id": "2b8d4a41-522e-45bf-a2de-08e595827360",
   "metadata": {},
   "outputs": [
    {
     "data": {
      "text/html": [
       "<div>\n",
       "<style scoped>\n",
       "    .dataframe tbody tr th:only-of-type {\n",
       "        vertical-align: middle;\n",
       "    }\n",
       "\n",
       "    .dataframe tbody tr th {\n",
       "        vertical-align: top;\n",
       "    }\n",
       "\n",
       "    .dataframe thead th {\n",
       "        text-align: right;\n",
       "    }\n",
       "</style>\n",
       "<table border=\"1\" class=\"dataframe\">\n",
       "  <thead>\n",
       "    <tr style=\"text-align: right;\">\n",
       "      <th></th>\n",
       "      <th>Order Count</th>\n",
       "      <th>Percentage</th>\n",
       "    </tr>\n",
       "    <tr>\n",
       "      <th>ship-city</th>\n",
       "      <th></th>\n",
       "      <th></th>\n",
       "    </tr>\n",
       "  </thead>\n",
       "  <tbody>\n",
       "    <tr>\n",
       "      <th>BENGALURU</th>\n",
       "      <td>11174</td>\n",
       "      <td>8.688350</td>\n",
       "    </tr>\n",
       "    <tr>\n",
       "      <th>HYDERABAD</th>\n",
       "      <td>8057</td>\n",
       "      <td>6.264725</td>\n",
       "    </tr>\n",
       "    <tr>\n",
       "      <th>MUMBAI</th>\n",
       "      <td>6105</td>\n",
       "      <td>4.746946</td>\n",
       "    </tr>\n",
       "    <tr>\n",
       "      <th>NEW DELHI</th>\n",
       "      <td>5776</td>\n",
       "      <td>4.491132</td>\n",
       "    </tr>\n",
       "    <tr>\n",
       "      <th>CHENNAI</th>\n",
       "      <td>5412</td>\n",
       "      <td>4.208104</td>\n",
       "    </tr>\n",
       "  </tbody>\n",
       "</table>\n",
       "</div>"
      ],
      "text/plain": [
       "           Order Count  Percentage\n",
       "ship-city                         \n",
       "BENGALURU        11174    8.688350\n",
       "HYDERABAD         8057    6.264725\n",
       "MUMBAI            6105    4.746946\n",
       "NEW DELHI         5776    4.491132\n",
       "CHENNAI           5412    4.208104"
      ]
     },
     "execution_count": 97,
     "metadata": {},
     "output_type": "execute_result"
    }
   ],
   "source": [
    "order_counts = amz['ship-city'].value_counts().nlargest(5)\n",
    "order_percentages = (order_counts / len(amz)) * 100\n",
    "top_5_summary = pd.DataFrame({'Order Count': order_counts,'Percentage': order_percentages})\n",
    "top_5_summary"
   ]
  },
  {
   "cell_type": "code",
   "execution_count": 98,
   "id": "c4f08182-aefa-49e3-a6f7-af2494cefa95",
   "metadata": {},
   "outputs": [
    {
     "data": {
      "text/html": [
       "<div>\n",
       "<style scoped>\n",
       "    .dataframe tbody tr th:only-of-type {\n",
       "        vertical-align: middle;\n",
       "    }\n",
       "\n",
       "    .dataframe tbody tr th {\n",
       "        vertical-align: top;\n",
       "    }\n",
       "\n",
       "    .dataframe thead th {\n",
       "        text-align: right;\n",
       "    }\n",
       "</style>\n",
       "<table border=\"1\" class=\"dataframe\">\n",
       "  <thead>\n",
       "    <tr style=\"text-align: right;\">\n",
       "      <th></th>\n",
       "      <th>Order Count</th>\n",
       "      <th>Percentage</th>\n",
       "    </tr>\n",
       "    <tr>\n",
       "      <th>ship-city</th>\n",
       "      <th></th>\n",
       "      <th></th>\n",
       "    </tr>\n",
       "  </thead>\n",
       "  <tbody>\n",
       "    <tr>\n",
       "      <th>Kasumpti SHIMLA</th>\n",
       "      <td>1</td>\n",
       "      <td>0.000778</td>\n",
       "    </tr>\n",
       "    <tr>\n",
       "      <th>NALLAPADU</th>\n",
       "      <td>1</td>\n",
       "      <td>0.000778</td>\n",
       "    </tr>\n",
       "    <tr>\n",
       "      <th>Edathala</th>\n",
       "      <td>1</td>\n",
       "      <td>0.000778</td>\n",
       "    </tr>\n",
       "    <tr>\n",
       "      <th>MURSAN</th>\n",
       "      <td>1</td>\n",
       "      <td>0.000778</td>\n",
       "    </tr>\n",
       "    <tr>\n",
       "      <th>THARANGAMBADI</th>\n",
       "      <td>1</td>\n",
       "      <td>0.000778</td>\n",
       "    </tr>\n",
       "  </tbody>\n",
       "</table>\n",
       "</div>"
      ],
      "text/plain": [
       "                 Order Count  Percentage\n",
       "ship-city                               \n",
       "Kasumpti SHIMLA            1    0.000778\n",
       "NALLAPADU                  1    0.000778\n",
       "Edathala                   1    0.000778\n",
       "MURSAN                     1    0.000778\n",
       "THARANGAMBADI              1    0.000778"
      ]
     },
     "execution_count": 98,
     "metadata": {},
     "output_type": "execute_result"
    }
   ],
   "source": [
    "order_counts = amz['ship-city'].value_counts().nsmallest(5)\n",
    "order_percentages = (order_counts / len(amz)) * 100\n",
    "bottom_5_summary = pd.DataFrame({'Order Count': order_counts,'Percentage': order_percentages})\n",
    "bottom_5_summary"
   ]
  },
  {
   "cell_type": "code",
   "execution_count": 99,
   "id": "84e523fd-2f3b-4710-988f-0d8f9797747e",
   "metadata": {
    "scrolled": true
   },
   "outputs": [
    {
     "data": {
      "image/png": "[encoded data removed]",
      "text/plain": [
       "<Figure size 1000x300 with 2 Axes>"
      ]
     },
     "metadata": {},
     "output_type": "display_data"
    }
   ],
   "source": [
    "plt.figure(figsize=(10,3))\n",
    "\n",
    "top_5_states = amz['ship-city'].value_counts().nlargest(5).index\n",
    "plt.subplot(1, 2, 1)\n",
    "st_top = sns.countplot(x='ship-city', data=amz[amz['ship-city'].isin(top_5_states)], order=top_5_states, color='skyblue')\n",
    "plt.xticks(rotation=90)\n",
    "plt.grid(False)\n",
    "plt.gca().get_yaxis().set_visible(False)\n",
    "plt.title('Top 5 Ship cities by Order Count')\n",
    "\n",
    "for p in st_top.patches:\n",
    "    height = p.get_height()\n",
    "    percentage = (height / len(amz)) * 100\n",
    "    st_top.text(p.get_x() + p.get_width() / 2, height + 0.2, f'{percentage:.3f}%', ha='center', va='bottom', fontsize=10)\n",
    "\n",
    "bottom_5_states = amz['ship-city'].value_counts().nsmallest(5).index\n",
    "plt.subplot(1, 2, 2)\n",
    "st_bottom = sns.countplot(x='ship-city', data=amz[amz['ship-city'].isin(bottom_5_states)], order=bottom_5_states, color='lightcoral')\n",
    "plt.xticks(rotation=90)\n",
    "plt.grid(False)\n",
    "plt.gca().get_yaxis().set_visible(False)\n",
    "plt.title('Bottom 5 Ship cities by Order Count')\n",
    "\n",
    "for q in st_bottom.patches:\n",
    "    height = q.get_height()\n",
    "    percentage = (height / len(amz)) * 100\n",
    "    st_bottom.text(q.get_x() + q.get_width() / 2, height/2, f'{percentage:.6f}%', ha='center', va='center', fontsize=10)\n",
    "\n",
    "plt.tight_layout()\n",
    "plt.show()"
   ]
  },
  {
   "cell_type": "markdown",
   "id": "049eeac6-0f74-4c2b-a878-eee98fb29fe6",
   "metadata": {},
   "source": [
    "The highest order volume comes from Bengaluru, followed by Hyderabad and Mumbai. Cities with the lowest order volumes include Kasumpti SHIMLA, \n",
    "NALLAPADU, and Edathala."
   ]
  },
  {
   "cell_type": "markdown",
   "id": "0acb2c3b-1ad8-4d81-ab79-1554275eee6e",
   "metadata": {},
   "source": [
    "#### Distribution of Order Percentages by Ship Postal Code"
   ]
  },
  {
   "cell_type": "code",
   "execution_count": 102,
   "id": "9a230ec4-9696-4fb6-832a-452d6c7a5291",
   "metadata": {},
   "outputs": [
    {
     "data": {
      "text/html": [
       "<div>\n",
       "<style scoped>\n",
       "    .dataframe tbody tr th:only-of-type {\n",
       "        vertical-align: middle;\n",
       "    }\n",
       "\n",
       "    .dataframe tbody tr th {\n",
       "        vertical-align: top;\n",
       "    }\n",
       "\n",
       "    .dataframe thead th {\n",
       "        text-align: right;\n",
       "    }\n",
       "</style>\n",
       "<table border=\"1\" class=\"dataframe\">\n",
       "  <thead>\n",
       "    <tr style=\"text-align: right;\">\n",
       "      <th></th>\n",
       "      <th>Order Count</th>\n",
       "      <th>Percentage</th>\n",
       "    </tr>\n",
       "    <tr>\n",
       "      <th>ship-postal-code</th>\n",
       "      <th></th>\n",
       "      <th></th>\n",
       "    </tr>\n",
       "  </thead>\n",
       "  <tbody>\n",
       "    <tr>\n",
       "      <th>201301</th>\n",
       "      <td>1004</td>\n",
       "      <td>0.780661</td>\n",
       "    </tr>\n",
       "    <tr>\n",
       "      <th>122001</th>\n",
       "      <td>686</td>\n",
       "      <td>0.533400</td>\n",
       "    </tr>\n",
       "    <tr>\n",
       "      <th>560037</th>\n",
       "      <td>632</td>\n",
       "      <td>0.491412</td>\n",
       "    </tr>\n",
       "    <tr>\n",
       "      <th>560068</th>\n",
       "      <td>613</td>\n",
       "      <td>0.476638</td>\n",
       "    </tr>\n",
       "    <tr>\n",
       "      <th>560076</th>\n",
       "      <td>578</td>\n",
       "      <td>0.449424</td>\n",
       "    </tr>\n",
       "  </tbody>\n",
       "</table>\n",
       "</div>"
      ],
      "text/plain": [
       "                  Order Count  Percentage\n",
       "ship-postal-code                         \n",
       "201301                   1004    0.780661\n",
       "122001                    686    0.533400\n",
       "560037                    632    0.491412\n",
       "560068                    613    0.476638\n",
       "560076                    578    0.449424"
      ]
     },
     "execution_count": 102,
     "metadata": {},
     "output_type": "execute_result"
    }
   ],
   "source": [
    "order_counts = amz['ship-postal-code'].value_counts().nlargest(5)\n",
    "order_percentages = (order_counts / len(amz)) * 100\n",
    "top_5_summary = pd.DataFrame({'Order Count': order_counts,'Percentage': order_percentages})\n",
    "top_5_summary"
   ]
  },
  {
   "cell_type": "code",
   "execution_count": 103,
   "id": "91c0b35f-0fd5-4d15-bc3f-479229c18aec",
   "metadata": {},
   "outputs": [
    {
     "data": {
      "text/html": [
       "<div>\n",
       "<style scoped>\n",
       "    .dataframe tbody tr th:only-of-type {\n",
       "        vertical-align: middle;\n",
       "    }\n",
       "\n",
       "    .dataframe tbody tr th {\n",
       "        vertical-align: top;\n",
       "    }\n",
       "\n",
       "    .dataframe thead th {\n",
       "        text-align: right;\n",
       "    }\n",
       "</style>\n",
       "<table border=\"1\" class=\"dataframe\">\n",
       "  <thead>\n",
       "    <tr style=\"text-align: right;\">\n",
       "      <th></th>\n",
       "      <th>Order Count</th>\n",
       "      <th>Percentage</th>\n",
       "    </tr>\n",
       "    <tr>\n",
       "      <th>ship-postal-code</th>\n",
       "      <th></th>\n",
       "      <th></th>\n",
       "    </tr>\n",
       "  </thead>\n",
       "  <tbody>\n",
       "    <tr>\n",
       "      <th>388160</th>\n",
       "      <td>1</td>\n",
       "      <td>0.000778</td>\n",
       "    </tr>\n",
       "    <tr>\n",
       "      <th>414609</th>\n",
       "      <td>1</td>\n",
       "      <td>0.000778</td>\n",
       "    </tr>\n",
       "    <tr>\n",
       "      <th>799120</th>\n",
       "      <td>1</td>\n",
       "      <td>0.000778</td>\n",
       "    </tr>\n",
       "    <tr>\n",
       "      <th>504311</th>\n",
       "      <td>1</td>\n",
       "      <td>0.000778</td>\n",
       "    </tr>\n",
       "    <tr>\n",
       "      <th>410202</th>\n",
       "      <td>1</td>\n",
       "      <td>0.000778</td>\n",
       "    </tr>\n",
       "  </tbody>\n",
       "</table>\n",
       "</div>"
      ],
      "text/plain": [
       "                  Order Count  Percentage\n",
       "ship-postal-code                         \n",
       "388160                      1    0.000778\n",
       "414609                      1    0.000778\n",
       "799120                      1    0.000778\n",
       "504311                      1    0.000778\n",
       "410202                      1    0.000778"
      ]
     },
     "execution_count": 103,
     "metadata": {},
     "output_type": "execute_result"
    }
   ],
   "source": [
    "order_counts = amz['ship-postal-code'].value_counts().nsmallest(5)\n",
    "order_percentages = (order_counts / len(amz)) * 100\n",
    "bottom_5_summary = pd.DataFrame({'Order Count': order_counts,'Percentage': order_percentages})\n",
    "bottom_5_summary"
   ]
  },
  {
   "cell_type": "code",
   "execution_count": 104,
   "id": "caeba391-5186-4bba-a8ba-4d23b48a304c",
   "metadata": {},
   "outputs": [
    {
     "data": {
      "image/png": "[encoded data removed]",
      "text/plain": [
       "<Figure size 1000x500 with 2 Axes>"
      ]
     },
     "metadata": {},
     "output_type": "display_data"
    }
   ],
   "source": [
    "plt.figure(figsize=(10, 5))\n",
    "\n",
    "top_5_states = amz['ship-postal-code'].value_counts().nlargest(5).index\n",
    "plt.subplot(1, 2, 1)\n",
    "st_top = sns.countplot(x='ship-postal-code', data=amz[amz['ship-postal-code'].isin(top_5_states)], order=top_5_states, color='skyblue')\n",
    "plt.xticks(rotation=90)\n",
    "plt.grid(False)\n",
    "plt.gca().get_yaxis().set_visible(False)\n",
    "plt.title('Top 5 ship-postal-code by Order Count')\n",
    "\n",
    "for p in st_top.patches:\n",
    "    height = p.get_height()\n",
    "    percentage = (height / len(amz)) * 100\n",
    "    st_top.text(p.get_x() + p.get_width() / 2, height + 0.2, f'{percentage:.3f}%', ha='center', va='bottom', fontsize=10)\n",
    "\n",
    "bottom_5_states = amz['ship-postal-code'].value_counts().nsmallest(5).index\n",
    "plt.subplot(1, 2, 2)\n",
    "st_bottom = sns.countplot(x='ship-postal-code', data=amz[amz['ship-postal-code'].isin(bottom_5_states)], order=bottom_5_states, color='lightcoral')\n",
    "plt.xticks(rotation=90)\n",
    "plt.grid(False)\n",
    "plt.gca().get_yaxis().set_visible(False)\n",
    "plt.title('Bottom 5 ship-postal-code by Order Count')\n",
    "\n",
    "for q in st_bottom.patches:\n",
    "    height = q.get_height()\n",
    "    percentage = (height / len(amz)) * 100\n",
    "    st_bottom.text(q.get_x() + q.get_width() / 2, height/2, f'{percentage:.3f}%', ha='center', va='center', fontsize=10)\n",
    "\n",
    "plt.tight_layout()\n",
    "plt.show()"
   ]
  },
  {
   "cell_type": "markdown",
   "id": "1e68dd75-a0c3-4117-ab24-ec4e9ef5e6fc",
   "metadata": {},
   "source": [
    "The highest order volume comes from 201301, followed by 122001 and 560037. Cities with the lowest order volumes include 388160, \n",
    "414609, and 799120."
   ]
  },
  {
   "cell_type": "markdown",
   "id": "f613792a-7194-45e5-b941-27c734830ff0",
   "metadata": {},
   "source": [
    "#### Distribution of Order Percentages by B2B"
   ]
  },
  {
   "cell_type": "code",
   "execution_count": 107,
   "id": "3743abb7-1a83-46b9-9490-1e9b10525e21",
   "metadata": {},
   "outputs": [
    {
     "data": {
      "text/html": [
       "<div>\n",
       "<style scoped>\n",
       "    .dataframe tbody tr th:only-of-type {\n",
       "        vertical-align: middle;\n",
       "    }\n",
       "\n",
       "    .dataframe tbody tr th {\n",
       "        vertical-align: top;\n",
       "    }\n",
       "\n",
       "    .dataframe thead th {\n",
       "        text-align: right;\n",
       "    }\n",
       "</style>\n",
       "<table border=\"1\" class=\"dataframe\">\n",
       "  <thead>\n",
       "    <tr style=\"text-align: right;\">\n",
       "      <th></th>\n",
       "      <th>Order Count</th>\n",
       "      <th>Percentage</th>\n",
       "    </tr>\n",
       "    <tr>\n",
       "      <th>B2B</th>\n",
       "      <th></th>\n",
       "      <th></th>\n",
       "    </tr>\n",
       "  </thead>\n",
       "  <tbody>\n",
       "    <tr>\n",
       "      <th>False</th>\n",
       "      <td>127739</td>\n",
       "      <td>99.323531</td>\n",
       "    </tr>\n",
       "    <tr>\n",
       "      <th>True</th>\n",
       "      <td>870</td>\n",
       "      <td>0.676469</td>\n",
       "    </tr>\n",
       "  </tbody>\n",
       "</table>\n",
       "</div>"
      ],
      "text/plain": [
       "       Order Count  Percentage\n",
       "B2B                           \n",
       "False       127739   99.323531\n",
       "True           870    0.676469"
      ]
     },
     "execution_count": 107,
     "metadata": {},
     "output_type": "execute_result"
    }
   ],
   "source": [
    "order_counts = amz.groupby('B2B').size()\n",
    "order_percentages = (order_counts / len(amz)) * 100\n",
    "order_summary = pd.DataFrame({'Order Count': order_counts, 'Percentage': order_percentages})\n",
    "order_summary"
   ]
  },
  {
   "cell_type": "code",
   "execution_count": 108,
   "id": "f95309a7-e7bc-464e-a589-dcdfb14e982c",
   "metadata": {},
   "outputs": [
    {
     "data": {
      "image/png": "[encoded data removed]",
      "text/plain": [
       "<Figure size 640x480 with 1 Axes>"
      ]
     },
     "metadata": {},
     "output_type": "display_data"
    }
   ],
   "source": [
    "plt.pie(amz['B2B'].value_counts(), labels=amz['B2B'].value_counts().index, autopct='%1.1f%%', startangle=90, colors=plt.cm.Paired.colors)\n",
    "plt.title('B2B or not?')\n",
    "plt.show()"
   ]
  },
  {
   "cell_type": "markdown",
   "id": "25ccf1a5-1720-4458-bb65-c34cb13ce8f0",
   "metadata": {},
   "source": [
    "With only 0.7% of orders being B2B, there is significant potential to expand Amazon's B2B offerings."
   ]
  },
  {
   "cell_type": "markdown",
   "id": "f2258622-6907-44df-86d6-12d1f5a5c6d3",
   "metadata": {},
   "source": [
    "#### Distribution of Order Percentages by Fulfilled-by (i.e. shipped by):"
   ]
  },
  {
   "cell_type": "code",
   "execution_count": 111,
   "id": "a7fdb4f0-32b4-476e-abec-9072b535b3b9",
   "metadata": {},
   "outputs": [
    {
     "data": {
      "text/html": [
       "<div>\n",
       "<style scoped>\n",
       "    .dataframe tbody tr th:only-of-type {\n",
       "        vertical-align: middle;\n",
       "    }\n",
       "\n",
       "    .dataframe tbody tr th {\n",
       "        vertical-align: top;\n",
       "    }\n",
       "\n",
       "    .dataframe thead th {\n",
       "        text-align: right;\n",
       "    }\n",
       "</style>\n",
       "<table border=\"1\" class=\"dataframe\">\n",
       "  <thead>\n",
       "    <tr style=\"text-align: right;\">\n",
       "      <th></th>\n",
       "      <th>Order Count</th>\n",
       "      <th>Percentage</th>\n",
       "    </tr>\n",
       "    <tr>\n",
       "      <th>fulfilled-by</th>\n",
       "      <th></th>\n",
       "      <th></th>\n",
       "    </tr>\n",
       "  </thead>\n",
       "  <tbody>\n",
       "    <tr>\n",
       "      <th>Easy Ship</th>\n",
       "      <td>39150</td>\n",
       "      <td>30.441104</td>\n",
       "    </tr>\n",
       "    <tr>\n",
       "      <th>Self Ship</th>\n",
       "      <td>89459</td>\n",
       "      <td>69.558896</td>\n",
       "    </tr>\n",
       "  </tbody>\n",
       "</table>\n",
       "</div>"
      ],
      "text/plain": [
       "              Order Count  Percentage\n",
       "fulfilled-by                         \n",
       "Easy Ship           39150   30.441104\n",
       "Self Ship           89459   69.558896"
      ]
     },
     "execution_count": 111,
     "metadata": {},
     "output_type": "execute_result"
    }
   ],
   "source": [
    "order_counts = amz.groupby('fulfilled-by').size()\n",
    "order_percentages = (order_counts / len(amz)) * 100\n",
    "order_summary = pd.DataFrame({'Order Count': order_counts, 'Percentage': order_percentages})\n",
    "order_summary"
   ]
  },
  {
   "cell_type": "code",
   "execution_count": 112,
   "id": "0532d56a-772b-4f40-8f70-335046a00ab2",
   "metadata": {},
   "outputs": [
    {
     "data": {
      "image/png": "[encoded data removed]",
      "text/plain": [
       "<Figure size 640x480 with 1 Axes>"
      ]
     },
     "metadata": {},
     "output_type": "display_data"
    }
   ],
   "source": [
    "plt.pie(amz['fulfilled-by'].value_counts(), labels=amz['fulfilled-by'].value_counts().index, autopct='%1.1f%%', startangle=90, colors=plt.cm.Paired.colors)\n",
    "plt.title('fulfilled-by:')\n",
    "plt.show()"
   ]
  },
  {
   "cell_type": "markdown",
   "id": "f2b6b73c-c70a-4365-a5da-09a07ea4d2c8",
   "metadata": {},
   "source": [
    "30.4% of orders are fulfilled by Easy Ship, indicating significant potential for Amazon to expand its fulfillment capabilities."
   ]
  },
  {
   "cell_type": "markdown",
   "id": "aa6baf8a-f941-44d0-baed-cef1b48e1fd1",
   "metadata": {},
   "source": [
    "- Conducted data cleaning and preprocessing to resolve duplicates, missing values, and inconsistent data types, ensuring a reliable dataset for analysis.\n",
    "- Performed exploratory data analysis (EDA) to uncover insights on top-selling categories, regional trends, and customer preferences, enabling informed decision-making.\n",
    "- Identified inefficiencies, including a 14.21% cancellation rate and 5.2% unshipped orders, and recommended strategies to enhance user experiance and reduce cancellations."
   ]
  }
 ],
 "metadata": {
  "kernelspec": {
   "display_name": "Python 3 (ipykernel)",
   "language": "python",
   "name": "python3"
  },
  "language_info": {
   "codemirror_mode": {
    "name": "ipython",
    "version": 3
   },
   "file_extension": ".py",
   "mimetype": "text/x-python",
   "name": "python",
   "nbconvert_exporter": "python",
   "pygments_lexer": "ipython3",
   "version": "3.12.4"
  }
 },
 "nbformat": 4,
 "nbformat_minor": 5
}
